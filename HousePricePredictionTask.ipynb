{
 "cells": [
  {
   "cell_type": "code",
   "execution_count": 425,
   "id": "4ae959fa",
   "metadata": {},
   "outputs": [],
   "source": [
    "import matplotlib.pyplot as plt\n",
    "from sklearn.preprocessing import StandardScaler\n",
    "import numpy as np\n",
    "import pandas as pd\n",
    "import sklearn\n",
    "import seaborn as sns\n",
    "from sklearn.feature_selection import mutual_info_regression\n",
    "from sklearn.model_selection import train_test_split\n",
    "from sklearn.linear_model import *\n",
    "from sklearn.preprocessing import OneHotEncoder\n",
    "from sklearn.metrics import mean_squared_error, r2_score\n",
    "from sklearn.ensemble import RandomForestClassifier\n",
    "from sklearn.model_selection import GridSearchCV\n",
    "from sklearn.model_selection import cross_val_score\n",
    "\n",
    "dataPath = 'house-prices-advanced-regression-techniques'"
   ]
  },
  {
   "cell_type": "code",
   "execution_count": 426,
   "id": "1ff0e9e9",
   "metadata": {},
   "outputs": [],
   "source": [
    "train = pd.read_csv(dataPath + '/train.csv')\n",
    "X_train = train.copy()\n",
    "y_train = X_train.pop('SalePrice')\n",
    "X_train, X_test, y_train, y_test = train_test_split(X_train, y_train, test_size=0.33, random_state=0)"
   ]
  },
  {
   "cell_type": "code",
   "execution_count": 427,
   "id": "921b2a8a",
   "metadata": {},
   "outputs": [
    {
     "data": {
      "text/html": [
       "<div>\n",
       "<style scoped>\n",
       "    .dataframe tbody tr th:only-of-type {\n",
       "        vertical-align: middle;\n",
       "    }\n",
       "\n",
       "    .dataframe tbody tr th {\n",
       "        vertical-align: top;\n",
       "    }\n",
       "\n",
       "    .dataframe thead th {\n",
       "        text-align: right;\n",
       "    }\n",
       "</style>\n",
       "<table border=\"1\" class=\"dataframe\">\n",
       "  <thead>\n",
       "    <tr style=\"text-align: right;\">\n",
       "      <th></th>\n",
       "      <th>Id</th>\n",
       "      <th>MSSubClass</th>\n",
       "      <th>MSZoning</th>\n",
       "      <th>LotFrontage</th>\n",
       "      <th>LotArea</th>\n",
       "      <th>Street</th>\n",
       "      <th>Alley</th>\n",
       "      <th>LotShape</th>\n",
       "      <th>LandContour</th>\n",
       "      <th>Utilities</th>\n",
       "      <th>...</th>\n",
       "      <th>ScreenPorch</th>\n",
       "      <th>PoolArea</th>\n",
       "      <th>PoolQC</th>\n",
       "      <th>Fence</th>\n",
       "      <th>MiscFeature</th>\n",
       "      <th>MiscVal</th>\n",
       "      <th>MoSold</th>\n",
       "      <th>YrSold</th>\n",
       "      <th>SaleType</th>\n",
       "      <th>SaleCondition</th>\n",
       "    </tr>\n",
       "  </thead>\n",
       "  <tbody>\n",
       "    <tr>\n",
       "      <th>1127</th>\n",
       "      <td>1128</td>\n",
       "      <td>20</td>\n",
       "      <td>RL</td>\n",
       "      <td>182.0</td>\n",
       "      <td>14572</td>\n",
       "      <td>Pave</td>\n",
       "      <td>NaN</td>\n",
       "      <td>IR3</td>\n",
       "      <td>Lvl</td>\n",
       "      <td>AllPub</td>\n",
       "      <td>...</td>\n",
       "      <td>0</td>\n",
       "      <td>0</td>\n",
       "      <td>NaN</td>\n",
       "      <td>NaN</td>\n",
       "      <td>NaN</td>\n",
       "      <td>0</td>\n",
       "      <td>11</td>\n",
       "      <td>2007</td>\n",
       "      <td>WD</td>\n",
       "      <td>Family</td>\n",
       "    </tr>\n",
       "    <tr>\n",
       "      <th>1424</th>\n",
       "      <td>1425</td>\n",
       "      <td>20</td>\n",
       "      <td>RL</td>\n",
       "      <td>NaN</td>\n",
       "      <td>9503</td>\n",
       "      <td>Pave</td>\n",
       "      <td>NaN</td>\n",
       "      <td>Reg</td>\n",
       "      <td>Lvl</td>\n",
       "      <td>AllPub</td>\n",
       "      <td>...</td>\n",
       "      <td>0</td>\n",
       "      <td>0</td>\n",
       "      <td>NaN</td>\n",
       "      <td>GdWo</td>\n",
       "      <td>NaN</td>\n",
       "      <td>0</td>\n",
       "      <td>6</td>\n",
       "      <td>2007</td>\n",
       "      <td>WD</td>\n",
       "      <td>Normal</td>\n",
       "    </tr>\n",
       "    <tr>\n",
       "      <th>587</th>\n",
       "      <td>588</td>\n",
       "      <td>85</td>\n",
       "      <td>RL</td>\n",
       "      <td>74.0</td>\n",
       "      <td>8740</td>\n",
       "      <td>Pave</td>\n",
       "      <td>NaN</td>\n",
       "      <td>IR1</td>\n",
       "      <td>Lvl</td>\n",
       "      <td>AllPub</td>\n",
       "      <td>...</td>\n",
       "      <td>0</td>\n",
       "      <td>0</td>\n",
       "      <td>NaN</td>\n",
       "      <td>NaN</td>\n",
       "      <td>NaN</td>\n",
       "      <td>0</td>\n",
       "      <td>7</td>\n",
       "      <td>2009</td>\n",
       "      <td>WD</td>\n",
       "      <td>Normal</td>\n",
       "    </tr>\n",
       "    <tr>\n",
       "      <th>1157</th>\n",
       "      <td>1158</td>\n",
       "      <td>120</td>\n",
       "      <td>RL</td>\n",
       "      <td>34.0</td>\n",
       "      <td>5001</td>\n",
       "      <td>Pave</td>\n",
       "      <td>NaN</td>\n",
       "      <td>IR1</td>\n",
       "      <td>Lvl</td>\n",
       "      <td>AllPub</td>\n",
       "      <td>...</td>\n",
       "      <td>0</td>\n",
       "      <td>0</td>\n",
       "      <td>NaN</td>\n",
       "      <td>NaN</td>\n",
       "      <td>NaN</td>\n",
       "      <td>0</td>\n",
       "      <td>7</td>\n",
       "      <td>2009</td>\n",
       "      <td>WD</td>\n",
       "      <td>Normal</td>\n",
       "    </tr>\n",
       "    <tr>\n",
       "      <th>938</th>\n",
       "      <td>939</td>\n",
       "      <td>60</td>\n",
       "      <td>RL</td>\n",
       "      <td>73.0</td>\n",
       "      <td>8760</td>\n",
       "      <td>Pave</td>\n",
       "      <td>NaN</td>\n",
       "      <td>Reg</td>\n",
       "      <td>Lvl</td>\n",
       "      <td>AllPub</td>\n",
       "      <td>...</td>\n",
       "      <td>0</td>\n",
       "      <td>0</td>\n",
       "      <td>NaN</td>\n",
       "      <td>NaN</td>\n",
       "      <td>NaN</td>\n",
       "      <td>0</td>\n",
       "      <td>8</td>\n",
       "      <td>2006</td>\n",
       "      <td>New</td>\n",
       "      <td>Partial</td>\n",
       "    </tr>\n",
       "    <tr>\n",
       "      <th>1224</th>\n",
       "      <td>1225</td>\n",
       "      <td>60</td>\n",
       "      <td>RL</td>\n",
       "      <td>60.0</td>\n",
       "      <td>15384</td>\n",
       "      <td>Pave</td>\n",
       "      <td>NaN</td>\n",
       "      <td>IR1</td>\n",
       "      <td>Lvl</td>\n",
       "      <td>AllPub</td>\n",
       "      <td>...</td>\n",
       "      <td>0</td>\n",
       "      <td>0</td>\n",
       "      <td>NaN</td>\n",
       "      <td>NaN</td>\n",
       "      <td>NaN</td>\n",
       "      <td>0</td>\n",
       "      <td>2</td>\n",
       "      <td>2008</td>\n",
       "      <td>WD</td>\n",
       "      <td>Normal</td>\n",
       "    </tr>\n",
       "    <tr>\n",
       "      <th>721</th>\n",
       "      <td>722</td>\n",
       "      <td>120</td>\n",
       "      <td>RM</td>\n",
       "      <td>NaN</td>\n",
       "      <td>4426</td>\n",
       "      <td>Pave</td>\n",
       "      <td>NaN</td>\n",
       "      <td>Reg</td>\n",
       "      <td>Lvl</td>\n",
       "      <td>AllPub</td>\n",
       "      <td>...</td>\n",
       "      <td>0</td>\n",
       "      <td>0</td>\n",
       "      <td>NaN</td>\n",
       "      <td>NaN</td>\n",
       "      <td>NaN</td>\n",
       "      <td>0</td>\n",
       "      <td>5</td>\n",
       "      <td>2010</td>\n",
       "      <td>WD</td>\n",
       "      <td>Normal</td>\n",
       "    </tr>\n",
       "    <tr>\n",
       "      <th>402</th>\n",
       "      <td>403</td>\n",
       "      <td>30</td>\n",
       "      <td>RL</td>\n",
       "      <td>60.0</td>\n",
       "      <td>10200</td>\n",
       "      <td>Pave</td>\n",
       "      <td>NaN</td>\n",
       "      <td>Reg</td>\n",
       "      <td>Lvl</td>\n",
       "      <td>AllPub</td>\n",
       "      <td>...</td>\n",
       "      <td>0</td>\n",
       "      <td>0</td>\n",
       "      <td>NaN</td>\n",
       "      <td>GdPrv</td>\n",
       "      <td>NaN</td>\n",
       "      <td>0</td>\n",
       "      <td>8</td>\n",
       "      <td>2008</td>\n",
       "      <td>WD</td>\n",
       "      <td>Normal</td>\n",
       "    </tr>\n",
       "    <tr>\n",
       "      <th>1457</th>\n",
       "      <td>1458</td>\n",
       "      <td>70</td>\n",
       "      <td>RL</td>\n",
       "      <td>66.0</td>\n",
       "      <td>9042</td>\n",
       "      <td>Pave</td>\n",
       "      <td>NaN</td>\n",
       "      <td>Reg</td>\n",
       "      <td>Lvl</td>\n",
       "      <td>AllPub</td>\n",
       "      <td>...</td>\n",
       "      <td>0</td>\n",
       "      <td>0</td>\n",
       "      <td>NaN</td>\n",
       "      <td>GdPrv</td>\n",
       "      <td>Shed</td>\n",
       "      <td>2500</td>\n",
       "      <td>5</td>\n",
       "      <td>2010</td>\n",
       "      <td>WD</td>\n",
       "      <td>Normal</td>\n",
       "    </tr>\n",
       "    <tr>\n",
       "      <th>187</th>\n",
       "      <td>188</td>\n",
       "      <td>50</td>\n",
       "      <td>RL</td>\n",
       "      <td>60.0</td>\n",
       "      <td>10410</td>\n",
       "      <td>Pave</td>\n",
       "      <td>NaN</td>\n",
       "      <td>Reg</td>\n",
       "      <td>Lvl</td>\n",
       "      <td>AllPub</td>\n",
       "      <td>...</td>\n",
       "      <td>0</td>\n",
       "      <td>0</td>\n",
       "      <td>NaN</td>\n",
       "      <td>MnPrv</td>\n",
       "      <td>NaN</td>\n",
       "      <td>0</td>\n",
       "      <td>8</td>\n",
       "      <td>2009</td>\n",
       "      <td>WD</td>\n",
       "      <td>Normal</td>\n",
       "    </tr>\n",
       "  </tbody>\n",
       "</table>\n",
       "<p>10 rows × 80 columns</p>\n",
       "</div>"
      ],
      "text/plain": [
       "        Id  MSSubClass MSZoning  LotFrontage  LotArea Street Alley LotShape  \\\n",
       "1127  1128          20       RL        182.0    14572   Pave   NaN      IR3   \n",
       "1424  1425          20       RL          NaN     9503   Pave   NaN      Reg   \n",
       "587    588          85       RL         74.0     8740   Pave   NaN      IR1   \n",
       "1157  1158         120       RL         34.0     5001   Pave   NaN      IR1   \n",
       "938    939          60       RL         73.0     8760   Pave   NaN      Reg   \n",
       "1224  1225          60       RL         60.0    15384   Pave   NaN      IR1   \n",
       "721    722         120       RM          NaN     4426   Pave   NaN      Reg   \n",
       "402    403          30       RL         60.0    10200   Pave   NaN      Reg   \n",
       "1457  1458          70       RL         66.0     9042   Pave   NaN      Reg   \n",
       "187    188          50       RL         60.0    10410   Pave   NaN      Reg   \n",
       "\n",
       "     LandContour Utilities  ... ScreenPorch PoolArea PoolQC  Fence  \\\n",
       "1127         Lvl    AllPub  ...           0        0    NaN    NaN   \n",
       "1424         Lvl    AllPub  ...           0        0    NaN   GdWo   \n",
       "587          Lvl    AllPub  ...           0        0    NaN    NaN   \n",
       "1157         Lvl    AllPub  ...           0        0    NaN    NaN   \n",
       "938          Lvl    AllPub  ...           0        0    NaN    NaN   \n",
       "1224         Lvl    AllPub  ...           0        0    NaN    NaN   \n",
       "721          Lvl    AllPub  ...           0        0    NaN    NaN   \n",
       "402          Lvl    AllPub  ...           0        0    NaN  GdPrv   \n",
       "1457         Lvl    AllPub  ...           0        0    NaN  GdPrv   \n",
       "187          Lvl    AllPub  ...           0        0    NaN  MnPrv   \n",
       "\n",
       "     MiscFeature MiscVal MoSold  YrSold  SaleType  SaleCondition  \n",
       "1127         NaN       0     11    2007        WD         Family  \n",
       "1424         NaN       0      6    2007        WD         Normal  \n",
       "587          NaN       0      7    2009        WD         Normal  \n",
       "1157         NaN       0      7    2009        WD         Normal  \n",
       "938          NaN       0      8    2006       New        Partial  \n",
       "1224         NaN       0      2    2008        WD         Normal  \n",
       "721          NaN       0      5    2010        WD         Normal  \n",
       "402          NaN       0      8    2008        WD         Normal  \n",
       "1457        Shed    2500      5    2010        WD         Normal  \n",
       "187          NaN       0      8    2009        WD         Normal  \n",
       "\n",
       "[10 rows x 80 columns]"
      ]
     },
     "execution_count": 427,
     "metadata": {},
     "output_type": "execute_result"
    }
   ],
   "source": [
    "X_train.head(10)"
   ]
  },
  {
   "cell_type": "code",
   "execution_count": 428,
   "id": "0a847a05",
   "metadata": {},
   "outputs": [
    {
     "data": {
      "text/plain": [
       "(978, 80)"
      ]
     },
     "execution_count": 428,
     "metadata": {},
     "output_type": "execute_result"
    }
   ],
   "source": [
    "X_train.shape"
   ]
  },
  {
   "cell_type": "code",
   "execution_count": 429,
   "id": "d9bcee58",
   "metadata": {},
   "outputs": [
    {
     "data": {
      "text/plain": [
       "1127    259000\n",
       "1424    144000\n",
       "587     137000\n",
       "1157    230000\n",
       "938     239799\n",
       "Name: SalePrice, dtype: int64"
      ]
     },
     "execution_count": 429,
     "metadata": {},
     "output_type": "execute_result"
    }
   ],
   "source": [
    "y_train.head()"
   ]
  },
  {
   "cell_type": "markdown",
   "id": "8bf2e275",
   "metadata": {},
   "source": [
    "### Put the information about the columns into the dictionary"
   ]
  },
  {
   "cell_type": "code",
   "execution_count": 430,
   "id": "375be477",
   "metadata": {},
   "outputs": [],
   "source": [
    "columnInfo = {}\n",
    "columnName = \"\"\n",
    "descFile = open(dataPath + '/data_description.txt')\n",
    "for line in descFile:\n",
    "    if ':' in line:\n",
    "        columnName, description = line.split(':')\n",
    "        columnInfo[columnName] = {'desc' : description,\n",
    "                                  'details' : ''}\n",
    "    else:\n",
    "        if len(line) > 2:\n",
    "            columnInfo[columnName]['details'] += '\\n' + line\n",
    "            \n",
    "def printInfo(columnName):\n",
    "    print(columnInfo[columnName]['desc'] + '\\n' + columnInfo[columnName]['details'])"
   ]
  },
  {
   "cell_type": "code",
   "execution_count": 431,
   "id": "b5d120b4",
   "metadata": {},
   "outputs": [
    {
     "name": "stdout",
     "output_type": "stream",
     "text": [
      " Type of road access to property\n",
      "\n",
      "\n",
      "       Grvl\tGravel\t\n",
      "\n",
      "       Pave\tPaved\n",
      "\n",
      "       \t\n",
      "\n"
     ]
    }
   ],
   "source": [
    "printInfo('Street')"
   ]
  },
  {
   "cell_type": "markdown",
   "id": "6a660378",
   "metadata": {},
   "source": [
    "### Check null values in columns"
   ]
  },
  {
   "cell_type": "code",
   "execution_count": 432,
   "id": "05511e72",
   "metadata": {},
   "outputs": [],
   "source": [
    "percentageOfNull = X_train.isna().mean() * 100"
   ]
  },
  {
   "cell_type": "code",
   "execution_count": 433,
   "id": "b37aedf3",
   "metadata": {},
   "outputs": [],
   "source": [
    "percentageOfNull = percentageOfNull.sort_values(ascending=False)"
   ]
  },
  {
   "cell_type": "code",
   "execution_count": 434,
   "id": "e51c5dc1",
   "metadata": {},
   "outputs": [
    {
     "data": {
      "text/plain": [
       "PoolQC         99.693252\n",
       "MiscFeature    95.603272\n",
       "Alley          93.967280\n",
       "Fence          81.492843\n",
       "FireplaceQu    46.421268\n",
       "LotFrontage    18.200409\n",
       "GarageType      5.112474\n",
       "GarageYrBlt     5.112474\n",
       "GarageQual      5.112474\n",
       "GarageCond      5.112474\n",
       "dtype: float64"
      ]
     },
     "execution_count": 434,
     "metadata": {},
     "output_type": "execute_result"
    }
   ],
   "source": [
    "percentageOfNull[:10]"
   ]
  },
  {
   "cell_type": "markdown",
   "id": "66412522",
   "metadata": {},
   "source": [
    "### Let's examine first 6 columns and their influence on cell price"
   ]
  },
  {
   "cell_type": "code",
   "execution_count": 435,
   "id": "67760a06",
   "metadata": {},
   "outputs": [
    {
     "name": "stdout",
     "output_type": "stream",
     "text": [
      " Pool quality\n",
      "\n",
      "\n",
      "\t\t\n",
      "\n",
      "       Ex\tExcellent\n",
      "\n",
      "       Gd\tGood\n",
      "\n",
      "       TA\tAverage/Typical\n",
      "\n",
      "       Fa\tFair\n",
      "\n",
      "       NA\tNo Pool\n",
      "\n",
      "\t\t\n",
      "\n",
      " Miscellaneous feature not covered in other categories\n",
      "\n",
      "\n",
      "\t\t\n",
      "\n",
      "       Elev\tElevator\n",
      "\n",
      "       Gar2\t2nd Garage (if not described in garage section)\n",
      "\n",
      "       Othr\tOther\n",
      "\n",
      "       Shed\tShed (over 100 SF)\n",
      "\n",
      "       TenC\tTennis Court\n",
      "\n",
      "       NA\tNone\n",
      "\n",
      "\t\t\n",
      "\n",
      " Type of alley access to property\n",
      "\n",
      "\n",
      "       Grvl\tGravel\n",
      "\n",
      "       Pave\tPaved\n",
      "\n",
      "       NA \tNo alley access\n",
      "\n",
      "\t\t\n",
      "\n",
      " Fence quality\n",
      "\n",
      "\n",
      "\t\t\n",
      "\n",
      "       GdPrv\tGood Privacy\n",
      "\n",
      "       MnPrv\tMinimum Privacy\n",
      "\n",
      "       GdWo\tGood Wood\n",
      "\n",
      "       MnWw\tMinimum Wood/Wire\n",
      "\n",
      "       NA\tNo Fence\n",
      "\n",
      " Fireplace quality\n",
      "\n",
      "\n",
      "       Ex\tExcellent - Exceptional Masonry Fireplace\n",
      "\n",
      "       Gd\tGood - Masonry Fireplace in main level\n",
      "\n",
      "       TA\tAverage - Prefabricated Fireplace in main living area or Masonry Fireplace in basement\n",
      "\n",
      "       Fa\tFair - Prefabricated Fireplace in basement\n",
      "\n",
      "       Po\tPoor - Ben Franklin Stove\n",
      "\n",
      "       NA\tNo Fireplace\n",
      "\n",
      "\t\t\n",
      "\n",
      " Linear feet of street connected to property\n",
      "\n",
      "\n"
     ]
    }
   ],
   "source": [
    "NAFeatures = list(percentageOfNull[:6].index)\n",
    "for columnName in NAFeatures:\n",
    "    printInfo(columnName)"
   ]
  },
  {
   "cell_type": "code",
   "execution_count": 436,
   "id": "504bb844",
   "metadata": {},
   "outputs": [],
   "source": [
    "X_train = pd.concat([X_train, y_train], axis=1)#restore SalePrice in order to use relplot"
   ]
  },
  {
   "cell_type": "code",
   "execution_count": 437,
   "id": "d48c6405",
   "metadata": {
    "scrolled": false
   },
   "outputs": [
    {
     "data": {
      "image/png": "[encoded data removed]",
      "text/plain": [
       "<Figure size 3000x500 with 6 Axes>"
      ]
     },
     "metadata": {},
     "output_type": "display_data"
    }
   ],
   "source": [
    "plt.rc(\n",
    "    \"axes\",\n",
    "    labelweight=\"bold\",\n",
    "    labelsize=\"large\",\n",
    "    titleweight=\"bold\",\n",
    "    titlesize=14,\n",
    "    titlepad=10,\n",
    ")\n",
    "NAFeatures = list(percentageOfNull[:6].index)\n",
    "\n",
    "sns.relplot(\n",
    "    x=\"value\", y=\"SalePrice\", col=\"variable\", data=X_train.melt(id_vars=\"SalePrice\", value_vars=NAFeatures), facet_kws=dict(sharex=False),\n",
    ");"
   ]
  },
  {
   "cell_type": "markdown",
   "id": "a15362cb",
   "metadata": {},
   "source": [
    "### We can safely get rid of first feature since it gives us no information about the Price (in addition, there are only  6 non-NA values). The next 4 features looks like relevant since we can see that there is some pattern in prices for different categories. The last feature looks like pretty reasonable feature to include in model."
   ]
  },
  {
   "cell_type": "code",
   "execution_count": 438,
   "id": "b0d27870",
   "metadata": {},
   "outputs": [
    {
     "data": {
      "image/png": "[encoded data removed]",
      "text/plain": [
       "<Figure size 3000x500 with 6 Axes>"
      ]
     },
     "metadata": {},
     "output_type": "display_data"
    }
   ],
   "source": [
    "plt.rc(\n",
    "    \"axes\",\n",
    "    labelweight=\"bold\",\n",
    "    labelsize=\"large\",\n",
    "    titleweight=\"bold\",\n",
    "    titlesize=14,\n",
    "    titlepad=10,\n",
    ")\n",
    "\n",
    "sns.relplot(\n",
    "    x=\"value\", y=\"SalePrice\", col=\"variable\", data=X_train.melt(id_vars=\"SalePrice\", value_vars=NAFeatures), facet_kws=dict(sharex=False),\n",
    ");"
   ]
  },
  {
   "cell_type": "code",
   "execution_count": 439,
   "id": "c1802809",
   "metadata": {},
   "outputs": [
    {
     "data": {
      "text/plain": [
       "1127    259000\n",
       "1424    144000\n",
       "587     137000\n",
       "1157    230000\n",
       "938     239799\n",
       "         ...  \n",
       "763     337000\n",
       "835     128000\n",
       "1216    112000\n",
       "559     234000\n",
       "684     221000\n",
       "Name: SalePrice, Length: 978, dtype: int64"
      ]
     },
     "execution_count": 439,
     "metadata": {},
     "output_type": "execute_result"
    }
   ],
   "source": [
    "X_train.pop('SalePrice')"
   ]
  },
  {
   "cell_type": "code",
   "execution_count": 440,
   "id": "8284e393",
   "metadata": {},
   "outputs": [
    {
     "data": {
      "text/plain": [
       "['PoolQC', 'MiscFeature', 'Alley', 'Fence', 'FireplaceQu', 'LotFrontage']"
      ]
     },
     "execution_count": 440,
     "metadata": {},
     "output_type": "execute_result"
    }
   ],
   "source": [
    "NAFeatures"
   ]
  },
  {
   "cell_type": "code",
   "execution_count": 441,
   "id": "89c209d9",
   "metadata": {},
   "outputs": [],
   "source": [
    "def make_mi_scores(X, y):\n",
    "    X = X.copy()\n",
    "    if 'SalePrice' in X.columns.tolist():\n",
    "        X.pop('SalePrice')\n",
    "    numericColumns =  X.select_dtypes('number').columns.tolist()\n",
    "    X[numericColumns] = X[numericColumns].fillna(-1)\n",
    "    for colname in X.select_dtypes([\"object\", \"category\"]):\n",
    "        X[colname], _ = X[colname].factorize()\n",
    "    discrete_features = [pd.api.types.is_integer_dtype(t) for t in X.dtypes]\n",
    "    mi_scores = mutual_info_regression(X, y, random_state=0)\n",
    "    mi_scores = pd.Series(mi_scores, name=\"MI Scores\", index=X.columns)\n",
    "    mi_scores = mi_scores.sort_values(ascending=False)\n",
    "    return mi_scores\n",
    "\n",
    "\n",
    "def plot_mi_scores(scores):\n",
    "    scores = scores.sort_values(ascending=True)\n",
    "    width = np.arange(len(scores))\n",
    "    ticks = list(scores.index)\n",
    "    plt.barh(width, scores)\n",
    "    plt.yticks(width, ticks)\n",
    "    plt.title(\"Mutual Information Scores\")"
   ]
  },
  {
   "cell_type": "code",
   "execution_count": 442,
   "id": "fa6b2a4f",
   "metadata": {},
   "outputs": [
    {
     "data": {
      "text/plain": [
       "FireplaceQu    0.234771\n",
       "LotFrontage    0.201774\n",
       "Fence          0.051065\n",
       "Alley          0.044496\n",
       "PoolQC         0.000000\n",
       "MiscFeature    0.000000\n",
       "Name: MI Scores, dtype: float64"
      ]
     },
     "execution_count": 442,
     "metadata": {},
     "output_type": "execute_result"
    }
   ],
   "source": [
    "scores = make_mi_scores(X_train[NAFeatures], y_train)\n",
    "scores"
   ]
  },
  {
   "cell_type": "code",
   "execution_count": 443,
   "id": "5a046193",
   "metadata": {},
   "outputs": [
    {
     "data": {
      "text/plain": [
       "OverallQual     0.534741\n",
       "Neighborhood    0.483575\n",
       "GrLivArea       0.480525\n",
       "TotalBsmtSF     0.386934\n",
       "GarageCars      0.377923\n",
       "                  ...   \n",
       "PoolQC          0.000000\n",
       "MiscFeature     0.000000\n",
       "MiscVal         0.000000\n",
       "MoSold          0.000000\n",
       "Id              0.000000\n",
       "Name: MI Scores, Length: 80, dtype: float64"
      ]
     },
     "execution_count": 443,
     "metadata": {},
     "output_type": "execute_result"
    }
   ],
   "source": [
    "scores = make_mi_scores(X_train[X_train.columns.tolist()], y_train)\n",
    "scores"
   ]
  },
  {
   "cell_type": "code",
   "execution_count": 444,
   "id": "ccd5c3ec",
   "metadata": {
    "scrolled": true
   },
   "outputs": [
    {
     "data": {
      "image/png": "[encoded data removed]",
      "text/plain": [
       "<Figure size 640x480 with 1 Axes>"
      ]
     },
     "metadata": {},
     "output_type": "display_data"
    }
   ],
   "source": [
    "plot_mi_scores(scores[:20])"
   ]
  },
  {
   "cell_type": "markdown",
   "id": "fbcc813a",
   "metadata": {},
   "source": [
    "### As we can see, FireplaceQu and LotFrontage are in top20 columns worth including in model based on mutual score. We will exclude only PoolQC column since the remaining 3 columns can be pretty helpful"
   ]
  },
  {
   "cell_type": "code",
   "execution_count": 445,
   "id": "cde3ab14",
   "metadata": {},
   "outputs": [],
   "source": [
    "X_train.drop(['PoolQC'], axis=1, inplace=True)\n",
    "X_test.drop(['PoolQC'], axis=1, inplace=True)"
   ]
  },
  {
   "cell_type": "code",
   "execution_count": 446,
   "id": "2aa86429",
   "metadata": {},
   "outputs": [
    {
     "data": {
      "text/plain": [
       "(978, 79)"
      ]
     },
     "execution_count": 446,
     "metadata": {},
     "output_type": "execute_result"
    }
   ],
   "source": [
    "X_train.shape"
   ]
  },
  {
   "cell_type": "markdown",
   "id": "a7aa5937",
   "metadata": {},
   "source": [
    "### Then we should find out how to handle missing values (look into description of each column with missing values)"
   ]
  },
  {
   "cell_type": "code",
   "execution_count": 447,
   "id": "917fd3ae",
   "metadata": {},
   "outputs": [
    {
     "data": {
      "text/plain": [
       "MiscFeature     95.603272\n",
       "Alley           93.967280\n",
       "Fence           81.492843\n",
       "FireplaceQu     46.421268\n",
       "LotFrontage     18.200409\n",
       "GarageYrBlt      5.112474\n",
       "GarageCond       5.112474\n",
       "GarageType       5.112474\n",
       "GarageFinish     5.112474\n",
       "GarageQual       5.112474\n",
       "BsmtFinType2     2.453988\n",
       "BsmtFinType1     2.351738\n",
       "BsmtExposure     2.351738\n",
       "BsmtCond         2.351738\n",
       "BsmtQual         2.351738\n",
       "MasVnrType       0.511247\n",
       "MasVnrArea       0.511247\n",
       "Electrical       0.102249\n",
       "BedroomAbvGr     0.000000\n",
       "KitchenAbvGr     0.000000\n",
       "dtype: float64"
      ]
     },
     "execution_count": 447,
     "metadata": {},
     "output_type": "execute_result"
    }
   ],
   "source": [
    "percentageOfNull = X_train.isna().mean() * 100\n",
    "percentageOfNull = percentageOfNull.sort_values(ascending=False)\n",
    "percentageOfNull[:20]"
   ]
  },
  {
   "cell_type": "markdown",
   "id": "2b464d87",
   "metadata": {},
   "source": [
    "### We can see that only 18 columns have missing values so we can examine each one and choose proper imputation technique"
   ]
  },
  {
   "cell_type": "code",
   "execution_count": 448,
   "id": "57477c97",
   "metadata": {},
   "outputs": [
    {
     "name": "stdout",
     "output_type": "stream",
     "text": [
      " Miscellaneous feature not covered in other categories\n",
      "\n",
      "\n",
      "\t\t\n",
      "\n",
      "       Elev\tElevator\n",
      "\n",
      "       Gar2\t2nd Garage (if not described in garage section)\n",
      "\n",
      "       Othr\tOther\n",
      "\n",
      "       Shed\tShed (over 100 SF)\n",
      "\n",
      "       TenC\tTennis Court\n",
      "\n",
      "       NA\tNone\n",
      "\n",
      "\t\t\n",
      "\n"
     ]
    }
   ],
   "source": [
    "printInfo('MiscFeature')"
   ]
  },
  {
   "cell_type": "markdown",
   "id": "8b95c6ad",
   "metadata": {},
   "source": [
    "#### For this one we can just impute constant"
   ]
  },
  {
   "cell_type": "code",
   "execution_count": 449,
   "id": "0d7103ee",
   "metadata": {},
   "outputs": [],
   "source": [
    "X_train['MiscFeature'].fillna('None', inplace=True)"
   ]
  },
  {
   "cell_type": "code",
   "execution_count": 450,
   "id": "af8a8629",
   "metadata": {},
   "outputs": [
    {
     "name": "stdout",
     "output_type": "stream",
     "text": [
      " Type of alley access to property\n",
      "\n",
      "\n",
      "       Grvl\tGravel\n",
      "\n",
      "       Pave\tPaved\n",
      "\n",
      "       NA \tNo alley access\n",
      "\n",
      "\t\t\n",
      "\n"
     ]
    }
   ],
   "source": [
    "printInfo('Alley')"
   ]
  },
  {
   "cell_type": "markdown",
   "id": "34139d73",
   "metadata": {},
   "source": [
    "#### The same"
   ]
  },
  {
   "cell_type": "code",
   "execution_count": 451,
   "id": "a8dae402",
   "metadata": {},
   "outputs": [],
   "source": [
    "X_train['Alley'].fillna('None', inplace=True)"
   ]
  },
  {
   "cell_type": "code",
   "execution_count": 452,
   "id": "dbe272f2",
   "metadata": {},
   "outputs": [
    {
     "name": "stdout",
     "output_type": "stream",
     "text": [
      " Fence quality\n",
      "\n",
      "\n",
      "\t\t\n",
      "\n",
      "       GdPrv\tGood Privacy\n",
      "\n",
      "       MnPrv\tMinimum Privacy\n",
      "\n",
      "       GdWo\tGood Wood\n",
      "\n",
      "       MnWw\tMinimum Wood/Wire\n",
      "\n",
      "       NA\tNo Fence\n",
      "\n"
     ]
    }
   ],
   "source": [
    "printInfo('Fence')"
   ]
  },
  {
   "cell_type": "code",
   "execution_count": 453,
   "id": "a8714eaf",
   "metadata": {},
   "outputs": [],
   "source": [
    "X_train['Fence'].fillna('None', inplace=True) #The same"
   ]
  },
  {
   "cell_type": "code",
   "execution_count": 454,
   "id": "892426fa",
   "metadata": {},
   "outputs": [
    {
     "name": "stdout",
     "output_type": "stream",
     "text": [
      " Fireplace quality\n",
      "\n",
      "\n",
      "       Ex\tExcellent - Exceptional Masonry Fireplace\n",
      "\n",
      "       Gd\tGood - Masonry Fireplace in main level\n",
      "\n",
      "       TA\tAverage - Prefabricated Fireplace in main living area or Masonry Fireplace in basement\n",
      "\n",
      "       Fa\tFair - Prefabricated Fireplace in basement\n",
      "\n",
      "       Po\tPoor - Ben Franklin Stove\n",
      "\n",
      "       NA\tNo Fireplace\n",
      "\n",
      "\t\t\n",
      "\n"
     ]
    }
   ],
   "source": [
    "printInfo('FireplaceQu')"
   ]
  },
  {
   "cell_type": "code",
   "execution_count": 455,
   "id": "9c967002",
   "metadata": {},
   "outputs": [],
   "source": [
    "X_train['FireplaceQu'].fillna('None', inplace=True) #The same"
   ]
  },
  {
   "cell_type": "code",
   "execution_count": 456,
   "id": "73402894",
   "metadata": {},
   "outputs": [
    {
     "name": "stdout",
     "output_type": "stream",
     "text": [
      " Linear feet of street connected to property\n",
      "\n",
      "\n"
     ]
    }
   ],
   "source": [
    "printInfo('LotFrontage')"
   ]
  },
  {
   "cell_type": "markdown",
   "id": "c28b84e8",
   "metadata": {},
   "source": [
    "#### This one is tough, since I don't know whether NA means that there is 0 feet connected to property or there is some other reason behind that. So I'll just impute it with 0 since the min in this column is > 0"
   ]
  },
  {
   "cell_type": "code",
   "execution_count": 457,
   "id": "b159228b",
   "metadata": {},
   "outputs": [],
   "source": [
    "X_train['LotFrontage'].fillna(0, inplace=True)"
   ]
  },
  {
   "cell_type": "code",
   "execution_count": 458,
   "id": "c8ea4ffd",
   "metadata": {},
   "outputs": [
    {
     "name": "stdout",
     "output_type": "stream",
     "text": [
      " Year garage was built\n",
      "\n",
      "\n",
      "\t\t\n",
      "\n"
     ]
    }
   ],
   "source": [
    "printInfo('GarageYrBlt')"
   ]
  },
  {
   "cell_type": "markdown",
   "id": "05b5254e",
   "metadata": {},
   "source": [
    "#### This and the next 4 columns contain NA if there is no garage (my assumption), since they have the same number of NA values. Let's create new column and fill it with 1 if there is no garage, and 0 otherwise. And, also, fill NA with some constant since some algorithms don't allow NAs to be present"
   ]
  },
  {
   "cell_type": "code",
   "execution_count": 459,
   "id": "6a371024",
   "metadata": {},
   "outputs": [],
   "source": [
    "X_train['noGarage'] = np.where(X_train['GarageYrBlt'].isna(), True, False)\n",
    "X_train['GarageYrBlt'].fillna(0, inplace=True)\n",
    "X_train['GarageCond'].fillna('NA', inplace=True)\n",
    "X_train['GarageType'].fillna('NA', inplace=True)\n",
    "X_train['GarageFinish'].fillna('NA', inplace=True)\n",
    "X_train['GarageQual'].fillna('NA', inplace=True)"
   ]
  },
  {
   "cell_type": "code",
   "execution_count": 460,
   "id": "fe9513f7",
   "metadata": {},
   "outputs": [
    {
     "name": "stdout",
     "output_type": "stream",
     "text": [
      " Rating of basement finished area (if multiple types)\n",
      "\n",
      "\n",
      "       GLQ\tGood Living Quarters\n",
      "\n",
      "       ALQ\tAverage Living Quarters\n",
      "\n",
      "       BLQ\tBelow Average Living Quarters\t\n",
      "\n",
      "       Rec\tAverage Rec Room\n",
      "\n",
      "       LwQ\tLow Quality\n",
      "\n",
      "       Unf\tUnfinshed\n",
      "\n",
      "       NA\tNo Basement\n",
      "\n"
     ]
    }
   ],
   "source": [
    "printInfo('BsmtFinType2')"
   ]
  },
  {
   "cell_type": "markdown",
   "id": "f3d1bde1",
   "metadata": {},
   "source": [
    "#### Let's do the same for this column"
   ]
  },
  {
   "cell_type": "code",
   "execution_count": 461,
   "id": "2c5bbdd2",
   "metadata": {},
   "outputs": [],
   "source": [
    "X_train['noBsmntType2'] = np.where(X_train['BsmtFinType2'].isna(), True, False)\n",
    "X_train['BsmtFinType2'].fillna('NA', inplace=True)"
   ]
  },
  {
   "cell_type": "code",
   "execution_count": 462,
   "id": "5773e39a",
   "metadata": {},
   "outputs": [
    {
     "name": "stdout",
     "output_type": "stream",
     "text": [
      " Rating of basement finished area\n",
      "\n",
      "\n",
      "       GLQ\tGood Living Quarters\n",
      "\n",
      "       ALQ\tAverage Living Quarters\n",
      "\n",
      "       BLQ\tBelow Average Living Quarters\t\n",
      "\n",
      "       Rec\tAverage Rec Room\n",
      "\n",
      "       LwQ\tLow Quality\n",
      "\n",
      "       Unf\tUnfinshed\n",
      "\n",
      "       NA\tNo Basement\n",
      "\n",
      "\t\t\n",
      "\n"
     ]
    }
   ],
   "source": [
    "printInfo('BsmtFinType1')"
   ]
  },
  {
   "cell_type": "markdown",
   "id": "a97489bf",
   "metadata": {},
   "source": [
    "#### Let's do the same for the next 4 columns (the same amount of NAs)"
   ]
  },
  {
   "cell_type": "code",
   "execution_count": 463,
   "id": "b28f3a07",
   "metadata": {},
   "outputs": [],
   "source": [
    "X_train['noBsmntType1'] = np.where(X_train['BsmtFinType1'].isna(), True, False)\n",
    "X_train['BsmtFinType1'].fillna('NA', inplace=True)\n",
    "X_train['BsmtExposure'].fillna('NA', inplace=True)\n",
    "X_train['BsmtCond'].fillna('NA', inplace=True)\n",
    "X_train['BsmtQual'].fillna('NA', inplace=True)"
   ]
  },
  {
   "cell_type": "code",
   "execution_count": 464,
   "id": "6371eed6",
   "metadata": {},
   "outputs": [
    {
     "name": "stdout",
     "output_type": "stream",
     "text": [
      " Masonry veneer type\n",
      "\n",
      "\n",
      "       BrkCmn\tBrick Common\n",
      "\n",
      "       BrkFace\tBrick Face\n",
      "\n",
      "       CBlock\tCinder Block\n",
      "\n",
      "       None\tNone\n",
      "\n",
      "       Stone\tStone\n",
      "\n"
     ]
    }
   ],
   "source": [
    "printInfo(\"MasVnrType\")"
   ]
  },
  {
   "cell_type": "markdown",
   "id": "696a5de2",
   "metadata": {},
   "source": [
    "#### The same for this and the next column"
   ]
  },
  {
   "cell_type": "code",
   "execution_count": 465,
   "id": "c9d65622",
   "metadata": {},
   "outputs": [],
   "source": [
    "X_train['noMasVnr'] = np.where(X_train['MasVnrType'].isna(), True, False)\n",
    "X_train['MasVnrType'].fillna('NA', inplace=True)\n",
    "X_train['MasVnrArea'].fillna(0, inplace=True)"
   ]
  },
  {
   "cell_type": "code",
   "execution_count": 466,
   "id": "ad8ce896",
   "metadata": {},
   "outputs": [
    {
     "name": "stdout",
     "output_type": "stream",
     "text": [
      " Electrical system\n",
      "\n",
      "\n",
      "       SBrkr\tStandard Circuit Breakers & Romex\n",
      "\n",
      "       FuseA\tFuse Box over 60 AMP and all Romex wiring (Average)\t\n",
      "\n",
      "       FuseF\t60 AMP Fuse Box and mostly Romex wiring (Fair)\n",
      "\n",
      "       FuseP\t60 AMP Fuse Box and mostly knob & tube wiring (poor)\n",
      "\n",
      "       Mix\tMixed\n",
      "\n",
      "\t\t\n",
      "\n"
     ]
    }
   ],
   "source": [
    "printInfo('Electrical')"
   ]
  },
  {
   "cell_type": "markdown",
   "id": "a188dfd1",
   "metadata": {},
   "source": [
    "#### I don't know the reason behind having NAs in this column so I impute it with the most frequent value"
   ]
  },
  {
   "cell_type": "code",
   "execution_count": 467,
   "id": "5f5ac540",
   "metadata": {},
   "outputs": [
    {
     "data": {
      "text/plain": [
       "SBrkr    890\n",
       "FuseA     67\n",
       "FuseF     17\n",
       "FuseP      2\n",
       "Mix        1\n",
       "Name: Electrical, dtype: int64"
      ]
     },
     "execution_count": 467,
     "metadata": {},
     "output_type": "execute_result"
    }
   ],
   "source": [
    "X_train['Electrical'].value_counts()"
   ]
  },
  {
   "cell_type": "code",
   "execution_count": 468,
   "id": "3631efe5",
   "metadata": {},
   "outputs": [],
   "source": [
    "X_train['Electrical'].fillna('SBrkr', inplace=True)"
   ]
  },
  {
   "cell_type": "markdown",
   "id": "51061a62",
   "metadata": {},
   "source": [
    "### Let's check now if there is any NAs in the dataset"
   ]
  },
  {
   "cell_type": "code",
   "execution_count": 469,
   "id": "6ef6abd5",
   "metadata": {},
   "outputs": [
    {
     "data": {
      "text/plain": [
       "0"
      ]
     },
     "execution_count": 469,
     "metadata": {},
     "output_type": "execute_result"
    }
   ],
   "source": [
    "X_train.isna().sum().sum()"
   ]
  },
  {
   "cell_type": "markdown",
   "id": "902f2187",
   "metadata": {},
   "source": [
    "### Now we will do the same operations for the test part of the dataset"
   ]
  },
  {
   "cell_type": "code",
   "execution_count": 470,
   "id": "0787cca5",
   "metadata": {},
   "outputs": [],
   "source": [
    "X_test['MiscFeature'].fillna('None', inplace=True)\n",
    "X_test['Alley'].fillna('None', inplace=True)\n",
    "X_test['Fence'].fillna('None', inplace=True)\n",
    "X_test['FireplaceQu'].fillna('None', inplace=True)\n",
    "X_test['LotFrontage'].fillna(0, inplace=True)\n",
    "X_test['noGarage'] = np.where(X_test['GarageYrBlt'].isna(), True, False)\n",
    "X_test['GarageYrBlt'].fillna(0, inplace=True)\n",
    "X_test['GarageCond'].fillna('NA', inplace=True)\n",
    "X_test['GarageType'].fillna('NA', inplace=True)\n",
    "X_test['GarageFinish'].fillna('NA', inplace=True)\n",
    "X_test['GarageQual'].fillna('NA', inplace=True)\n",
    "X_test['noBsmntType2'] = np.where(X_test['BsmtFinType2'].isna(), True, False)\n",
    "X_test['BsmtFinType2'].fillna('NA', inplace=True)\n",
    "X_test['noBsmntType1'] = np.where(X_test['BsmtFinType1'].isna(), True, False)\n",
    "X_test['BsmtFinType1'].fillna('NA', inplace=True)\n",
    "X_test['BsmtExposure'].fillna('NA', inplace=True)\n",
    "X_test['BsmtCond'].fillna('NA', inplace=True)\n",
    "X_test['BsmtQual'].fillna('NA', inplace=True)\n",
    "X_test['noMasVnr'] = np.where(X_test['MasVnrType'].isna(), True, False)\n",
    "X_test['MasVnrType'].fillna('NA', inplace=True)\n",
    "X_test['MasVnrArea'].fillna(0, inplace=True)\n",
    "X_test['Electrical'].fillna('SBrkr', inplace=True)"
   ]
  },
  {
   "cell_type": "code",
   "execution_count": 471,
   "id": "1a056d01",
   "metadata": {},
   "outputs": [
    {
     "data": {
      "text/plain": [
       "0"
      ]
     },
     "execution_count": 471,
     "metadata": {},
     "output_type": "execute_result"
    }
   ],
   "source": [
    "X_test.isna().sum().sum()"
   ]
  },
  {
   "cell_type": "markdown",
   "id": "1b2d5f0b",
   "metadata": {},
   "source": [
    "### Let's examine out most promising features"
   ]
  },
  {
   "cell_type": "code",
   "execution_count": 472,
   "id": "ce8948d5",
   "metadata": {},
   "outputs": [
    {
     "data": {
      "text/html": [
       "<div>\n",
       "<style scoped>\n",
       "    .dataframe tbody tr th:only-of-type {\n",
       "        vertical-align: middle;\n",
       "    }\n",
       "\n",
       "    .dataframe tbody tr th {\n",
       "        vertical-align: top;\n",
       "    }\n",
       "\n",
       "    .dataframe thead th {\n",
       "        text-align: right;\n",
       "    }\n",
       "</style>\n",
       "<table border=\"1\" class=\"dataframe\">\n",
       "  <thead>\n",
       "    <tr style=\"text-align: right;\">\n",
       "      <th></th>\n",
       "      <th>OverallQual</th>\n",
       "      <th>GrLivArea</th>\n",
       "      <th>TotalBsmtSF</th>\n",
       "      <th>GarageCars</th>\n",
       "      <th>GarageArea</th>\n",
       "      <th>YearBuilt</th>\n",
       "      <th>1stFlrSF</th>\n",
       "      <th>GarageYrBlt</th>\n",
       "      <th>FullBath</th>\n",
       "      <th>YearRemodAdd</th>\n",
       "      <th>MSSubClass</th>\n",
       "      <th>2ndFlrSF</th>\n",
       "      <th>LotFrontage</th>\n",
       "    </tr>\n",
       "  </thead>\n",
       "  <tbody>\n",
       "    <tr>\n",
       "      <th>count</th>\n",
       "      <td>978.000000</td>\n",
       "      <td>978.000000</td>\n",
       "      <td>978.000000</td>\n",
       "      <td>978.000000</td>\n",
       "      <td>978.000000</td>\n",
       "      <td>978.000000</td>\n",
       "      <td>978.000000</td>\n",
       "      <td>978.000000</td>\n",
       "      <td>978.000000</td>\n",
       "      <td>978.000000</td>\n",
       "      <td>978.000000</td>\n",
       "      <td>978.000000</td>\n",
       "      <td>978.000000</td>\n",
       "    </tr>\n",
       "    <tr>\n",
       "      <th>mean</th>\n",
       "      <td>6.088957</td>\n",
       "      <td>1524.160532</td>\n",
       "      <td>1059.925358</td>\n",
       "      <td>1.771984</td>\n",
       "      <td>471.437628</td>\n",
       "      <td>1971.118609</td>\n",
       "      <td>1163.935583</td>\n",
       "      <td>1877.060327</td>\n",
       "      <td>1.579755</td>\n",
       "      <td>1984.677914</td>\n",
       "      <td>56.457055</td>\n",
       "      <td>354.278119</td>\n",
       "      <td>57.134969</td>\n",
       "    </tr>\n",
       "    <tr>\n",
       "      <th>std</th>\n",
       "      <td>1.365334</td>\n",
       "      <td>518.449446</td>\n",
       "      <td>412.202176</td>\n",
       "      <td>0.733852</td>\n",
       "      <td>208.928849</td>\n",
       "      <td>30.278547</td>\n",
       "      <td>375.005713</td>\n",
       "      <td>436.599071</td>\n",
       "      <td>0.543199</td>\n",
       "      <td>20.545616</td>\n",
       "      <td>42.196580</td>\n",
       "      <td>441.984591</td>\n",
       "      <td>34.146685</td>\n",
       "    </tr>\n",
       "    <tr>\n",
       "      <th>min</th>\n",
       "      <td>1.000000</td>\n",
       "      <td>334.000000</td>\n",
       "      <td>0.000000</td>\n",
       "      <td>0.000000</td>\n",
       "      <td>0.000000</td>\n",
       "      <td>1872.000000</td>\n",
       "      <td>334.000000</td>\n",
       "      <td>0.000000</td>\n",
       "      <td>0.000000</td>\n",
       "      <td>1950.000000</td>\n",
       "      <td>20.000000</td>\n",
       "      <td>0.000000</td>\n",
       "      <td>0.000000</td>\n",
       "    </tr>\n",
       "    <tr>\n",
       "      <th>25%</th>\n",
       "      <td>5.000000</td>\n",
       "      <td>1141.250000</td>\n",
       "      <td>806.000000</td>\n",
       "      <td>1.000000</td>\n",
       "      <td>331.500000</td>\n",
       "      <td>1954.000000</td>\n",
       "      <td>884.250000</td>\n",
       "      <td>1958.000000</td>\n",
       "      <td>1.000000</td>\n",
       "      <td>1967.000000</td>\n",
       "      <td>20.000000</td>\n",
       "      <td>0.000000</td>\n",
       "      <td>42.000000</td>\n",
       "    </tr>\n",
       "    <tr>\n",
       "      <th>50%</th>\n",
       "      <td>6.000000</td>\n",
       "      <td>1479.000000</td>\n",
       "      <td>995.000000</td>\n",
       "      <td>2.000000</td>\n",
       "      <td>478.000000</td>\n",
       "      <td>1973.000000</td>\n",
       "      <td>1095.500000</td>\n",
       "      <td>1977.000000</td>\n",
       "      <td>2.000000</td>\n",
       "      <td>1993.000000</td>\n",
       "      <td>50.000000</td>\n",
       "      <td>0.000000</td>\n",
       "      <td>63.000000</td>\n",
       "    </tr>\n",
       "    <tr>\n",
       "      <th>75%</th>\n",
       "      <td>7.000000</td>\n",
       "      <td>1791.500000</td>\n",
       "      <td>1283.250000</td>\n",
       "      <td>2.000000</td>\n",
       "      <td>576.000000</td>\n",
       "      <td>2000.000000</td>\n",
       "      <td>1391.000000</td>\n",
       "      <td>2001.000000</td>\n",
       "      <td>2.000000</td>\n",
       "      <td>2003.000000</td>\n",
       "      <td>70.000000</td>\n",
       "      <td>733.500000</td>\n",
       "      <td>79.750000</td>\n",
       "    </tr>\n",
       "    <tr>\n",
       "      <th>max</th>\n",
       "      <td>10.000000</td>\n",
       "      <td>4676.000000</td>\n",
       "      <td>3206.000000</td>\n",
       "      <td>4.000000</td>\n",
       "      <td>1356.000000</td>\n",
       "      <td>2010.000000</td>\n",
       "      <td>3228.000000</td>\n",
       "      <td>2010.000000</td>\n",
       "      <td>3.000000</td>\n",
       "      <td>2010.000000</td>\n",
       "      <td>190.000000</td>\n",
       "      <td>1872.000000</td>\n",
       "      <td>313.000000</td>\n",
       "    </tr>\n",
       "  </tbody>\n",
       "</table>\n",
       "</div>"
      ],
      "text/plain": [
       "       OverallQual    GrLivArea  TotalBsmtSF  GarageCars   GarageArea  \\\n",
       "count   978.000000   978.000000   978.000000  978.000000   978.000000   \n",
       "mean      6.088957  1524.160532  1059.925358    1.771984   471.437628   \n",
       "std       1.365334   518.449446   412.202176    0.733852   208.928849   \n",
       "min       1.000000   334.000000     0.000000    0.000000     0.000000   \n",
       "25%       5.000000  1141.250000   806.000000    1.000000   331.500000   \n",
       "50%       6.000000  1479.000000   995.000000    2.000000   478.000000   \n",
       "75%       7.000000  1791.500000  1283.250000    2.000000   576.000000   \n",
       "max      10.000000  4676.000000  3206.000000    4.000000  1356.000000   \n",
       "\n",
       "         YearBuilt     1stFlrSF  GarageYrBlt    FullBath  YearRemodAdd  \\\n",
       "count   978.000000   978.000000   978.000000  978.000000    978.000000   \n",
       "mean   1971.118609  1163.935583  1877.060327    1.579755   1984.677914   \n",
       "std      30.278547   375.005713   436.599071    0.543199     20.545616   \n",
       "min    1872.000000   334.000000     0.000000    0.000000   1950.000000   \n",
       "25%    1954.000000   884.250000  1958.000000    1.000000   1967.000000   \n",
       "50%    1973.000000  1095.500000  1977.000000    2.000000   1993.000000   \n",
       "75%    2000.000000  1391.000000  2001.000000    2.000000   2003.000000   \n",
       "max    2010.000000  3228.000000  2010.000000    3.000000   2010.000000   \n",
       "\n",
       "       MSSubClass     2ndFlrSF  LotFrontage  \n",
       "count  978.000000   978.000000   978.000000  \n",
       "mean    56.457055   354.278119    57.134969  \n",
       "std     42.196580   441.984591    34.146685  \n",
       "min     20.000000     0.000000     0.000000  \n",
       "25%     20.000000     0.000000    42.000000  \n",
       "50%     50.000000     0.000000    63.000000  \n",
       "75%     70.000000   733.500000    79.750000  \n",
       "max    190.000000  1872.000000   313.000000  "
      ]
     },
     "execution_count": 472,
     "metadata": {},
     "output_type": "execute_result"
    }
   ],
   "source": [
    "X_train[scores.index[:20]].describe()"
   ]
  },
  {
   "cell_type": "markdown",
   "id": "3898f8f6",
   "metadata": {},
   "source": [
    "### Let's scale all numeric features"
   ]
  },
  {
   "cell_type": "code",
   "execution_count": 473,
   "id": "186486b3",
   "metadata": {},
   "outputs": [
    {
     "data": {
      "text/plain": [
       "['Id',\n",
       " 'MSSubClass',\n",
       " 'LotFrontage',\n",
       " 'LotArea',\n",
       " 'OverallQual',\n",
       " 'OverallCond',\n",
       " 'YearBuilt',\n",
       " 'YearRemodAdd',\n",
       " 'MasVnrArea',\n",
       " 'BsmtFinSF1',\n",
       " 'BsmtFinSF2',\n",
       " 'BsmtUnfSF',\n",
       " 'TotalBsmtSF',\n",
       " '1stFlrSF',\n",
       " '2ndFlrSF',\n",
       " 'LowQualFinSF',\n",
       " 'GrLivArea',\n",
       " 'BsmtFullBath',\n",
       " 'BsmtHalfBath',\n",
       " 'FullBath',\n",
       " 'HalfBath',\n",
       " 'BedroomAbvGr',\n",
       " 'KitchenAbvGr',\n",
       " 'TotRmsAbvGrd',\n",
       " 'Fireplaces',\n",
       " 'GarageYrBlt',\n",
       " 'GarageCars',\n",
       " 'GarageArea',\n",
       " 'WoodDeckSF',\n",
       " 'OpenPorchSF',\n",
       " 'EnclosedPorch',\n",
       " '3SsnPorch',\n",
       " 'ScreenPorch',\n",
       " 'PoolArea',\n",
       " 'MiscVal',\n",
       " 'MoSold',\n",
       " 'YrSold']"
      ]
     },
     "execution_count": 473,
     "metadata": {},
     "output_type": "execute_result"
    }
   ],
   "source": [
    "numericColumns =  X_train.select_dtypes('number').columns.tolist()\n",
    "numericColumns"
   ]
  },
  {
   "cell_type": "code",
   "execution_count": 474,
   "id": "feda3b7d",
   "metadata": {},
   "outputs": [],
   "source": [
    "numericColumns.remove('Id')"
   ]
  },
  {
   "cell_type": "code",
   "execution_count": 475,
   "id": "3a675f86",
   "metadata": {},
   "outputs": [
    {
     "data": {
      "text/html": [
       "<div>\n",
       "<style scoped>\n",
       "    .dataframe tbody tr th:only-of-type {\n",
       "        vertical-align: middle;\n",
       "    }\n",
       "\n",
       "    .dataframe tbody tr th {\n",
       "        vertical-align: top;\n",
       "    }\n",
       "\n",
       "    .dataframe thead th {\n",
       "        text-align: right;\n",
       "    }\n",
       "</style>\n",
       "<table border=\"1\" class=\"dataframe\">\n",
       "  <thead>\n",
       "    <tr style=\"text-align: right;\">\n",
       "      <th></th>\n",
       "      <th>OverallQual</th>\n",
       "      <th>GrLivArea</th>\n",
       "      <th>TotalBsmtSF</th>\n",
       "      <th>GarageCars</th>\n",
       "      <th>GarageArea</th>\n",
       "      <th>YearBuilt</th>\n",
       "      <th>1stFlrSF</th>\n",
       "      <th>GarageYrBlt</th>\n",
       "      <th>FullBath</th>\n",
       "      <th>YearRemodAdd</th>\n",
       "      <th>MSSubClass</th>\n",
       "      <th>2ndFlrSF</th>\n",
       "      <th>LotFrontage</th>\n",
       "    </tr>\n",
       "  </thead>\n",
       "  <tbody>\n",
       "    <tr>\n",
       "      <th>count</th>\n",
       "      <td>9.780000e+02</td>\n",
       "      <td>9.780000e+02</td>\n",
       "      <td>9.780000e+02</td>\n",
       "      <td>9.780000e+02</td>\n",
       "      <td>9.780000e+02</td>\n",
       "      <td>9.780000e+02</td>\n",
       "      <td>9.780000e+02</td>\n",
       "      <td>9.780000e+02</td>\n",
       "      <td>9.780000e+02</td>\n",
       "      <td>9.780000e+02</td>\n",
       "      <td>9.780000e+02</td>\n",
       "      <td>9.780000e+02</td>\n",
       "      <td>9.780000e+02</td>\n",
       "    </tr>\n",
       "    <tr>\n",
       "      <th>mean</th>\n",
       "      <td>-7.991789e-17</td>\n",
       "      <td>1.925295e-16</td>\n",
       "      <td>-1.979784e-16</td>\n",
       "      <td>-3.632632e-17</td>\n",
       "      <td>1.053463e-16</td>\n",
       "      <td>-2.973309e-15</td>\n",
       "      <td>-1.925295e-16</td>\n",
       "      <td>-2.597332e-16</td>\n",
       "      <td>-2.906105e-17</td>\n",
       "      <td>4.496290e-15</td>\n",
       "      <td>-8.173421e-17</td>\n",
       "      <td>1.017137e-16</td>\n",
       "      <td>1.080708e-16</td>\n",
       "    </tr>\n",
       "    <tr>\n",
       "      <th>std</th>\n",
       "      <td>1.000512e+00</td>\n",
       "      <td>1.000512e+00</td>\n",
       "      <td>1.000512e+00</td>\n",
       "      <td>1.000512e+00</td>\n",
       "      <td>1.000512e+00</td>\n",
       "      <td>1.000512e+00</td>\n",
       "      <td>1.000512e+00</td>\n",
       "      <td>1.000512e+00</td>\n",
       "      <td>1.000512e+00</td>\n",
       "      <td>1.000512e+00</td>\n",
       "      <td>1.000512e+00</td>\n",
       "      <td>1.000512e+00</td>\n",
       "      <td>1.000512e+00</td>\n",
       "    </tr>\n",
       "    <tr>\n",
       "      <th>min</th>\n",
       "      <td>-3.729170e+00</td>\n",
       "      <td>-2.296790e+00</td>\n",
       "      <td>-2.572688e+00</td>\n",
       "      <td>-2.415869e+00</td>\n",
       "      <td>-2.257605e+00</td>\n",
       "      <td>-3.275234e+00</td>\n",
       "      <td>-2.214260e+00</td>\n",
       "      <td>-4.301477e+00</td>\n",
       "      <td>-2.909728e+00</td>\n",
       "      <td>-1.688713e+00</td>\n",
       "      <td>-8.644233e-01</td>\n",
       "      <td>-8.019723e-01</td>\n",
       "      <td>-1.674078e+00</td>\n",
       "    </tr>\n",
       "    <tr>\n",
       "      <th>25%</th>\n",
       "      <td>-7.979839e-01</td>\n",
       "      <td>-7.389466e-01</td>\n",
       "      <td>-6.163366e-01</td>\n",
       "      <td>-1.052499e+00</td>\n",
       "      <td>-6.701287e-01</td>\n",
       "      <td>-5.656602e-01</td>\n",
       "      <td>-7.461984e-01</td>\n",
       "      <td>1.854816e-01</td>\n",
       "      <td>-1.067842e+00</td>\n",
       "      <td>-8.608629e-01</td>\n",
       "      <td>-8.644233e-01</td>\n",
       "      <td>-8.019723e-01</td>\n",
       "      <td>-4.434607e-01</td>\n",
       "    </tr>\n",
       "    <tr>\n",
       "      <th>50%</th>\n",
       "      <td>-6.518742e-02</td>\n",
       "      <td>-8.715148e-02</td>\n",
       "      <td>-1.575891e-01</td>\n",
       "      <td>3.108706e-01</td>\n",
       "      <td>3.142567e-02</td>\n",
       "      <td>6.216788e-02</td>\n",
       "      <td>-1.825855e-01</td>\n",
       "      <td>2.290220e-01</td>\n",
       "      <td>7.740442e-01</td>\n",
       "      <td>4.052613e-01</td>\n",
       "      <td>-1.531015e-01</td>\n",
       "      <td>-8.019723e-01</td>\n",
       "      <td>1.718478e-01</td>\n",
       "    </tr>\n",
       "    <tr>\n",
       "      <th>75%</th>\n",
       "      <td>6.676090e-01</td>\n",
       "      <td>5.159158e-01</td>\n",
       "      <td>5.420614e-01</td>\n",
       "      <td>3.108706e-01</td>\n",
       "      <td>5.007249e-01</td>\n",
       "      <td>9.543446e-01</td>\n",
       "      <td>6.058057e-01</td>\n",
       "      <td>2.840205e-01</td>\n",
       "      <td>7.740442e-01</td>\n",
       "      <td>8.922322e-01</td>\n",
       "      <td>3.211131e-01</td>\n",
       "      <td>8.584370e-01</td>\n",
       "      <td>6.626295e-01</td>\n",
       "    </tr>\n",
       "    <tr>\n",
       "      <th>max</th>\n",
       "      <td>2.865998e+00</td>\n",
       "      <td>6.082468e+00</td>\n",
       "      <td>5.209028e+00</td>\n",
       "      <td>3.037610e+00</td>\n",
       "      <td>4.235963e+00</td>\n",
       "      <td>1.284780e+00</td>\n",
       "      <td>5.506904e+00</td>\n",
       "      <td>3.046449e-01</td>\n",
       "      <td>2.615931e+00</td>\n",
       "      <td>1.233112e+00</td>\n",
       "      <td>3.166400e+00</td>\n",
       "      <td>3.435637e+00</td>\n",
       "      <td>7.496949e+00</td>\n",
       "    </tr>\n",
       "  </tbody>\n",
       "</table>\n",
       "</div>"
      ],
      "text/plain": [
       "        OverallQual     GrLivArea   TotalBsmtSF    GarageCars    GarageArea  \\\n",
       "count  9.780000e+02  9.780000e+02  9.780000e+02  9.780000e+02  9.780000e+02   \n",
       "mean  -7.991789e-17  1.925295e-16 -1.979784e-16 -3.632632e-17  1.053463e-16   \n",
       "std    1.000512e+00  1.000512e+00  1.000512e+00  1.000512e+00  1.000512e+00   \n",
       "min   -3.729170e+00 -2.296790e+00 -2.572688e+00 -2.415869e+00 -2.257605e+00   \n",
       "25%   -7.979839e-01 -7.389466e-01 -6.163366e-01 -1.052499e+00 -6.701287e-01   \n",
       "50%   -6.518742e-02 -8.715148e-02 -1.575891e-01  3.108706e-01  3.142567e-02   \n",
       "75%    6.676090e-01  5.159158e-01  5.420614e-01  3.108706e-01  5.007249e-01   \n",
       "max    2.865998e+00  6.082468e+00  5.209028e+00  3.037610e+00  4.235963e+00   \n",
       "\n",
       "          YearBuilt      1stFlrSF   GarageYrBlt      FullBath  YearRemodAdd  \\\n",
       "count  9.780000e+02  9.780000e+02  9.780000e+02  9.780000e+02  9.780000e+02   \n",
       "mean  -2.973309e-15 -1.925295e-16 -2.597332e-16 -2.906105e-17  4.496290e-15   \n",
       "std    1.000512e+00  1.000512e+00  1.000512e+00  1.000512e+00  1.000512e+00   \n",
       "min   -3.275234e+00 -2.214260e+00 -4.301477e+00 -2.909728e+00 -1.688713e+00   \n",
       "25%   -5.656602e-01 -7.461984e-01  1.854816e-01 -1.067842e+00 -8.608629e-01   \n",
       "50%    6.216788e-02 -1.825855e-01  2.290220e-01  7.740442e-01  4.052613e-01   \n",
       "75%    9.543446e-01  6.058057e-01  2.840205e-01  7.740442e-01  8.922322e-01   \n",
       "max    1.284780e+00  5.506904e+00  3.046449e-01  2.615931e+00  1.233112e+00   \n",
       "\n",
       "         MSSubClass      2ndFlrSF   LotFrontage  \n",
       "count  9.780000e+02  9.780000e+02  9.780000e+02  \n",
       "mean  -8.173421e-17  1.017137e-16  1.080708e-16  \n",
       "std    1.000512e+00  1.000512e+00  1.000512e+00  \n",
       "min   -8.644233e-01 -8.019723e-01 -1.674078e+00  \n",
       "25%   -8.644233e-01 -8.019723e-01 -4.434607e-01  \n",
       "50%   -1.531015e-01 -8.019723e-01  1.718478e-01  \n",
       "75%    3.211131e-01  8.584370e-01  6.626295e-01  \n",
       "max    3.166400e+00  3.435637e+00  7.496949e+00  "
      ]
     },
     "execution_count": 475,
     "metadata": {},
     "output_type": "execute_result"
    }
   ],
   "source": [
    "X_train_normalized = X_train.copy()\n",
    "scaler = StandardScaler()\n",
    "scaler = scaler.fit(X_train_normalized[numericColumns])\n",
    "X_train_normalized[numericColumns] = scaler.transform(X_train_normalized[numericColumns])\n",
    "X_train_normalized[scores.index[:20]].describe()"
   ]
  },
  {
   "cell_type": "code",
   "execution_count": 476,
   "id": "a1f94118",
   "metadata": {},
   "outputs": [
    {
     "data": {
      "text/html": [
       "<div>\n",
       "<style scoped>\n",
       "    .dataframe tbody tr th:only-of-type {\n",
       "        vertical-align: middle;\n",
       "    }\n",
       "\n",
       "    .dataframe tbody tr th {\n",
       "        vertical-align: top;\n",
       "    }\n",
       "\n",
       "    .dataframe thead th {\n",
       "        text-align: right;\n",
       "    }\n",
       "</style>\n",
       "<table border=\"1\" class=\"dataframe\">\n",
       "  <thead>\n",
       "    <tr style=\"text-align: right;\">\n",
       "      <th></th>\n",
       "      <th>Id</th>\n",
       "      <th>MSSubClass</th>\n",
       "      <th>MSZoning</th>\n",
       "      <th>LotFrontage</th>\n",
       "      <th>LotArea</th>\n",
       "      <th>Street</th>\n",
       "      <th>Alley</th>\n",
       "      <th>LotShape</th>\n",
       "      <th>LandContour</th>\n",
       "      <th>Utilities</th>\n",
       "      <th>...</th>\n",
       "      <th>MiscFeature</th>\n",
       "      <th>MiscVal</th>\n",
       "      <th>MoSold</th>\n",
       "      <th>YrSold</th>\n",
       "      <th>SaleType</th>\n",
       "      <th>SaleCondition</th>\n",
       "      <th>noGarage</th>\n",
       "      <th>noBsmntType2</th>\n",
       "      <th>noBsmntType1</th>\n",
       "      <th>noMasVnr</th>\n",
       "    </tr>\n",
       "  </thead>\n",
       "  <tbody>\n",
       "    <tr>\n",
       "      <th>1127</th>\n",
       "      <td>1128</td>\n",
       "      <td>-0.864423</td>\n",
       "      <td>RL</td>\n",
       "      <td>3.658596</td>\n",
       "      <td>0.376557</td>\n",
       "      <td>Pave</td>\n",
       "      <td>None</td>\n",
       "      <td>IR3</td>\n",
       "      <td>Lvl</td>\n",
       "      <td>AllPub</td>\n",
       "      <td>...</td>\n",
       "      <td>None</td>\n",
       "      <td>-0.096291</td>\n",
       "      <td>1.758775</td>\n",
       "      <td>-0.616150</td>\n",
       "      <td>WD</td>\n",
       "      <td>Family</td>\n",
       "      <td>False</td>\n",
       "      <td>False</td>\n",
       "      <td>False</td>\n",
       "      <td>False</td>\n",
       "    </tr>\n",
       "    <tr>\n",
       "      <th>1424</th>\n",
       "      <td>1425</td>\n",
       "      <td>-0.864423</td>\n",
       "      <td>RL</td>\n",
       "      <td>-1.674078</td>\n",
       "      <td>-0.107533</td>\n",
       "      <td>Pave</td>\n",
       "      <td>None</td>\n",
       "      <td>Reg</td>\n",
       "      <td>Lvl</td>\n",
       "      <td>AllPub</td>\n",
       "      <td>...</td>\n",
       "      <td>None</td>\n",
       "      <td>-0.096291</td>\n",
       "      <td>-0.104399</td>\n",
       "      <td>-0.616150</td>\n",
       "      <td>WD</td>\n",
       "      <td>Normal</td>\n",
       "      <td>False</td>\n",
       "      <td>False</td>\n",
       "      <td>False</td>\n",
       "      <td>False</td>\n",
       "    </tr>\n",
       "    <tr>\n",
       "      <th>587</th>\n",
       "      <td>588</td>\n",
       "      <td>0.676774</td>\n",
       "      <td>RL</td>\n",
       "      <td>0.494152</td>\n",
       "      <td>-0.180399</td>\n",
       "      <td>Pave</td>\n",
       "      <td>None</td>\n",
       "      <td>IR1</td>\n",
       "      <td>Lvl</td>\n",
       "      <td>AllPub</td>\n",
       "      <td>...</td>\n",
       "      <td>None</td>\n",
       "      <td>-0.096291</td>\n",
       "      <td>0.268236</td>\n",
       "      <td>0.868074</td>\n",
       "      <td>WD</td>\n",
       "      <td>Normal</td>\n",
       "      <td>False</td>\n",
       "      <td>False</td>\n",
       "      <td>False</td>\n",
       "      <td>False</td>\n",
       "    </tr>\n",
       "    <tr>\n",
       "      <th>1157</th>\n",
       "      <td>1158</td>\n",
       "      <td>1.506649</td>\n",
       "      <td>RL</td>\n",
       "      <td>-0.677864</td>\n",
       "      <td>-0.537473</td>\n",
       "      <td>Pave</td>\n",
       "      <td>None</td>\n",
       "      <td>IR1</td>\n",
       "      <td>Lvl</td>\n",
       "      <td>AllPub</td>\n",
       "      <td>...</td>\n",
       "      <td>None</td>\n",
       "      <td>-0.096291</td>\n",
       "      <td>0.268236</td>\n",
       "      <td>0.868074</td>\n",
       "      <td>WD</td>\n",
       "      <td>Normal</td>\n",
       "      <td>False</td>\n",
       "      <td>False</td>\n",
       "      <td>False</td>\n",
       "      <td>False</td>\n",
       "    </tr>\n",
       "    <tr>\n",
       "      <th>938</th>\n",
       "      <td>939</td>\n",
       "      <td>0.084006</td>\n",
       "      <td>RL</td>\n",
       "      <td>0.464852</td>\n",
       "      <td>-0.178489</td>\n",
       "      <td>Pave</td>\n",
       "      <td>None</td>\n",
       "      <td>Reg</td>\n",
       "      <td>Lvl</td>\n",
       "      <td>AllPub</td>\n",
       "      <td>...</td>\n",
       "      <td>None</td>\n",
       "      <td>-0.096291</td>\n",
       "      <td>0.640871</td>\n",
       "      <td>-1.358262</td>\n",
       "      <td>New</td>\n",
       "      <td>Partial</td>\n",
       "      <td>False</td>\n",
       "      <td>False</td>\n",
       "      <td>False</td>\n",
       "      <td>False</td>\n",
       "    </tr>\n",
       "  </tbody>\n",
       "</table>\n",
       "<p>5 rows × 83 columns</p>\n",
       "</div>"
      ],
      "text/plain": [
       "        Id  MSSubClass MSZoning  LotFrontage   LotArea Street Alley LotShape  \\\n",
       "1127  1128   -0.864423       RL     3.658596  0.376557   Pave  None      IR3   \n",
       "1424  1425   -0.864423       RL    -1.674078 -0.107533   Pave  None      Reg   \n",
       "587    588    0.676774       RL     0.494152 -0.180399   Pave  None      IR1   \n",
       "1157  1158    1.506649       RL    -0.677864 -0.537473   Pave  None      IR1   \n",
       "938    939    0.084006       RL     0.464852 -0.178489   Pave  None      Reg   \n",
       "\n",
       "     LandContour Utilities  ... MiscFeature   MiscVal    MoSold    YrSold  \\\n",
       "1127         Lvl    AllPub  ...        None -0.096291  1.758775 -0.616150   \n",
       "1424         Lvl    AllPub  ...        None -0.096291 -0.104399 -0.616150   \n",
       "587          Lvl    AllPub  ...        None -0.096291  0.268236  0.868074   \n",
       "1157         Lvl    AllPub  ...        None -0.096291  0.268236  0.868074   \n",
       "938          Lvl    AllPub  ...        None -0.096291  0.640871 -1.358262   \n",
       "\n",
       "     SaleType SaleCondition noGarage  noBsmntType2  noBsmntType1  noMasVnr  \n",
       "1127       WD        Family    False         False         False     False  \n",
       "1424       WD        Normal    False         False         False     False  \n",
       "587        WD        Normal    False         False         False     False  \n",
       "1157       WD        Normal    False         False         False     False  \n",
       "938       New       Partial    False         False         False     False  \n",
       "\n",
       "[5 rows x 83 columns]"
      ]
     },
     "execution_count": 476,
     "metadata": {},
     "output_type": "execute_result"
    }
   ],
   "source": [
    "X_train_normalized.head()"
   ]
  },
  {
   "cell_type": "code",
   "execution_count": 477,
   "id": "f96402a3",
   "metadata": {},
   "outputs": [],
   "source": [
    "X_test_normalized = X_test.copy()\n",
    "X_test_normalized[numericColumns] = scaler.transform(X_test_normalized[numericColumns])"
   ]
  },
  {
   "cell_type": "code",
   "execution_count": 478,
   "id": "acdc6595",
   "metadata": {},
   "outputs": [
    {
     "data": {
      "text/html": [
       "<div>\n",
       "<style scoped>\n",
       "    .dataframe tbody tr th:only-of-type {\n",
       "        vertical-align: middle;\n",
       "    }\n",
       "\n",
       "    .dataframe tbody tr th {\n",
       "        vertical-align: top;\n",
       "    }\n",
       "\n",
       "    .dataframe thead th {\n",
       "        text-align: right;\n",
       "    }\n",
       "</style>\n",
       "<table border=\"1\" class=\"dataframe\">\n",
       "  <thead>\n",
       "    <tr style=\"text-align: right;\">\n",
       "      <th></th>\n",
       "      <th>Id</th>\n",
       "      <th>MSSubClass</th>\n",
       "      <th>MSZoning</th>\n",
       "      <th>LotFrontage</th>\n",
       "      <th>LotArea</th>\n",
       "      <th>Street</th>\n",
       "      <th>Alley</th>\n",
       "      <th>LotShape</th>\n",
       "      <th>LandContour</th>\n",
       "      <th>Utilities</th>\n",
       "      <th>...</th>\n",
       "      <th>MiscFeature</th>\n",
       "      <th>MiscVal</th>\n",
       "      <th>MoSold</th>\n",
       "      <th>YrSold</th>\n",
       "      <th>SaleType</th>\n",
       "      <th>SaleCondition</th>\n",
       "      <th>noGarage</th>\n",
       "      <th>noBsmntType2</th>\n",
       "      <th>noBsmntType1</th>\n",
       "      <th>noMasVnr</th>\n",
       "    </tr>\n",
       "  </thead>\n",
       "  <tbody>\n",
       "    <tr>\n",
       "      <th>529</th>\n",
       "      <td>530</td>\n",
       "      <td>-0.864423</td>\n",
       "      <td>RL</td>\n",
       "      <td>-1.674078</td>\n",
       "      <td>2.104723</td>\n",
       "      <td>Pave</td>\n",
       "      <td>None</td>\n",
       "      <td>IR1</td>\n",
       "      <td>Lvl</td>\n",
       "      <td>AllPub</td>\n",
       "      <td>...</td>\n",
       "      <td>None</td>\n",
       "      <td>-0.096291</td>\n",
       "      <td>-1.222303</td>\n",
       "      <td>-0.616150</td>\n",
       "      <td>WD</td>\n",
       "      <td>Alloca</td>\n",
       "      <td>False</td>\n",
       "      <td>False</td>\n",
       "      <td>False</td>\n",
       "      <td>True</td>\n",
       "    </tr>\n",
       "    <tr>\n",
       "      <th>491</th>\n",
       "      <td>492</td>\n",
       "      <td>-0.153101</td>\n",
       "      <td>RL</td>\n",
       "      <td>0.640654</td>\n",
       "      <td>-0.108774</td>\n",
       "      <td>Pave</td>\n",
       "      <td>None</td>\n",
       "      <td>Reg</td>\n",
       "      <td>Lvl</td>\n",
       "      <td>AllPub</td>\n",
       "      <td>...</td>\n",
       "      <td>None</td>\n",
       "      <td>-0.096291</td>\n",
       "      <td>0.640871</td>\n",
       "      <td>-1.358262</td>\n",
       "      <td>WD</td>\n",
       "      <td>Normal</td>\n",
       "      <td>False</td>\n",
       "      <td>False</td>\n",
       "      <td>False</td>\n",
       "      <td>False</td>\n",
       "    </tr>\n",
       "    <tr>\n",
       "      <th>459</th>\n",
       "      <td>460</td>\n",
       "      <td>-0.153101</td>\n",
       "      <td>RL</td>\n",
       "      <td>-1.674078</td>\n",
       "      <td>-0.345136</td>\n",
       "      <td>Pave</td>\n",
       "      <td>None</td>\n",
       "      <td>IR1</td>\n",
       "      <td>Bnk</td>\n",
       "      <td>AllPub</td>\n",
       "      <td>...</td>\n",
       "      <td>None</td>\n",
       "      <td>-0.096291</td>\n",
       "      <td>0.268236</td>\n",
       "      <td>0.868074</td>\n",
       "      <td>WD</td>\n",
       "      <td>Normal</td>\n",
       "      <td>False</td>\n",
       "      <td>False</td>\n",
       "      <td>False</td>\n",
       "      <td>False</td>\n",
       "    </tr>\n",
       "    <tr>\n",
       "      <th>279</th>\n",
       "      <td>280</td>\n",
       "      <td>0.084006</td>\n",
       "      <td>RL</td>\n",
       "      <td>0.757856</td>\n",
       "      <td>-0.059592</td>\n",
       "      <td>Pave</td>\n",
       "      <td>None</td>\n",
       "      <td>Reg</td>\n",
       "      <td>Lvl</td>\n",
       "      <td>AllPub</td>\n",
       "      <td>...</td>\n",
       "      <td>None</td>\n",
       "      <td>-0.096291</td>\n",
       "      <td>-1.222303</td>\n",
       "      <td>0.125962</td>\n",
       "      <td>WD</td>\n",
       "      <td>Normal</td>\n",
       "      <td>False</td>\n",
       "      <td>False</td>\n",
       "      <td>False</td>\n",
       "      <td>False</td>\n",
       "    </tr>\n",
       "    <tr>\n",
       "      <th>655</th>\n",
       "      <td>656</td>\n",
       "      <td>2.455079</td>\n",
       "      <td>RM</td>\n",
       "      <td>-1.058769</td>\n",
       "      <td>-0.854628</td>\n",
       "      <td>Pave</td>\n",
       "      <td>None</td>\n",
       "      <td>Reg</td>\n",
       "      <td>Lvl</td>\n",
       "      <td>AllPub</td>\n",
       "      <td>...</td>\n",
       "      <td>None</td>\n",
       "      <td>-0.096291</td>\n",
       "      <td>-1.222303</td>\n",
       "      <td>1.610186</td>\n",
       "      <td>WD</td>\n",
       "      <td>Family</td>\n",
       "      <td>False</td>\n",
       "      <td>False</td>\n",
       "      <td>False</td>\n",
       "      <td>False</td>\n",
       "    </tr>\n",
       "  </tbody>\n",
       "</table>\n",
       "<p>5 rows × 83 columns</p>\n",
       "</div>"
      ],
      "text/plain": [
       "      Id  MSSubClass MSZoning  LotFrontage   LotArea Street Alley LotShape  \\\n",
       "529  530   -0.864423       RL    -1.674078  2.104723   Pave  None      IR1   \n",
       "491  492   -0.153101       RL     0.640654 -0.108774   Pave  None      Reg   \n",
       "459  460   -0.153101       RL    -1.674078 -0.345136   Pave  None      IR1   \n",
       "279  280    0.084006       RL     0.757856 -0.059592   Pave  None      Reg   \n",
       "655  656    2.455079       RM    -1.058769 -0.854628   Pave  None      Reg   \n",
       "\n",
       "    LandContour Utilities  ... MiscFeature   MiscVal    MoSold    YrSold  \\\n",
       "529         Lvl    AllPub  ...        None -0.096291 -1.222303 -0.616150   \n",
       "491         Lvl    AllPub  ...        None -0.096291  0.640871 -1.358262   \n",
       "459         Bnk    AllPub  ...        None -0.096291  0.268236  0.868074   \n",
       "279         Lvl    AllPub  ...        None -0.096291 -1.222303  0.125962   \n",
       "655         Lvl    AllPub  ...        None -0.096291 -1.222303  1.610186   \n",
       "\n",
       "    SaleType SaleCondition noGarage  noBsmntType2  noBsmntType1  noMasVnr  \n",
       "529       WD        Alloca    False         False         False      True  \n",
       "491       WD        Normal    False         False         False     False  \n",
       "459       WD        Normal    False         False         False     False  \n",
       "279       WD        Normal    False         False         False     False  \n",
       "655       WD        Family    False         False         False     False  \n",
       "\n",
       "[5 rows x 83 columns]"
      ]
     },
     "execution_count": 478,
     "metadata": {},
     "output_type": "execute_result"
    }
   ],
   "source": [
    "X_test_normalized.head()"
   ]
  },
  {
   "cell_type": "code",
   "execution_count": 479,
   "id": "7f10ec54",
   "metadata": {},
   "outputs": [
    {
     "data": {
      "text/plain": [
       "529      530\n",
       "491      492\n",
       "459      460\n",
       "279      280\n",
       "655      656\n",
       "        ... \n",
       "435      436\n",
       "1369    1370\n",
       "476      477\n",
       "1150    1151\n",
       "466      467\n",
       "Name: Id, Length: 482, dtype: int64"
      ]
     },
     "execution_count": 479,
     "metadata": {},
     "output_type": "execute_result"
    }
   ],
   "source": [
    "X_train_normalized.pop('Id')\n",
    "X_test_normalized.pop('Id')"
   ]
  },
  {
   "cell_type": "markdown",
   "id": "0da8de0e",
   "metadata": {},
   "source": [
    "### Let's one-hot encode out categorical columns"
   ]
  },
  {
   "cell_type": "code",
   "execution_count": 480,
   "id": "8cc5728c",
   "metadata": {},
   "outputs": [],
   "source": [
    "enc = OneHotEncoder(handle_unknown='ignore')"
   ]
  },
  {
   "cell_type": "code",
   "execution_count": 481,
   "id": "6d9f2054",
   "metadata": {},
   "outputs": [],
   "source": [
    "objectCols = X_train_normalized.select_dtypes(include='O').columns.tolist()\n",
    "X_train_normalized_obj = X_train_normalized.copy()[objectCols]\n",
    "enc.fit(X_train_normalized_obj)\n",
    "\n",
    "X_train_encoded_obj = enc.transform(X_train_normalized_obj).toarray()\n",
    "X_train_encoded_obj = pd.DataFrame(data=X_train_encoded_obj)\n",
    "\n",
    "X_train_encoded_nonObj = X_train_normalized.copy().drop(objectCols, axis=1)\n",
    "X_train_encoded_nonObj.index = X_train_encoded_obj.index\n",
    "X_train_encoded = pd.concat([X_train_encoded_nonObj, X_train_encoded_obj], axis=1)\n",
    "\n",
    "\n",
    "X_test_normalized_obj = X_test_normalized.copy()[objectCols]\n",
    "X_test_encoded_obj = enc.transform(X_test_normalized_obj).toarray()\n",
    "X_test_encoded_obj = pd.DataFrame(data=X_test_encoded_obj)\n",
    "X_test_encoded_nonObj = X_test_normalized.copy().drop(objectCols, axis=1)\n",
    "X_test_encoded_nonObj.index = X_test_encoded_obj.index\n",
    "X_test_encoded = pd.concat([X_test_encoded_nonObj, X_test_encoded_obj], axis=1)\n"
   ]
  },
  {
   "cell_type": "code",
   "execution_count": 482,
   "id": "3269f49d",
   "metadata": {},
   "outputs": [
    {
     "name": "stdout",
     "output_type": "stream",
     "text": [
      "(482, 254)\n",
      "(482, 40)\n",
      "(482, 294)\n"
     ]
    }
   ],
   "source": [
    "print(X_test_encoded_obj.shape)\n",
    "print(X_test_encoded_nonObj.shape)\n",
    "print(X_test_encoded.shape)"
   ]
  },
  {
   "cell_type": "code",
   "execution_count": 483,
   "id": "fa47c693",
   "metadata": {},
   "outputs": [],
   "source": [
    "objectCols = X_train_encoded.select_dtypes(include='O').columns.tolist()"
   ]
  },
  {
   "cell_type": "code",
   "execution_count": 484,
   "id": "888a7abe",
   "metadata": {},
   "outputs": [
    {
     "data": {
      "text/plain": [
       "[]"
      ]
     },
     "execution_count": 484,
     "metadata": {},
     "output_type": "execute_result"
    }
   ],
   "source": [
    "objectCols"
   ]
  },
  {
   "cell_type": "code",
   "execution_count": 485,
   "id": "b698416c",
   "metadata": {},
   "outputs": [
    {
     "data": {
      "text/html": [
       "<div>\n",
       "<style scoped>\n",
       "    .dataframe tbody tr th:only-of-type {\n",
       "        vertical-align: middle;\n",
       "    }\n",
       "\n",
       "    .dataframe tbody tr th {\n",
       "        vertical-align: top;\n",
       "    }\n",
       "\n",
       "    .dataframe thead th {\n",
       "        text-align: right;\n",
       "    }\n",
       "</style>\n",
       "<table border=\"1\" class=\"dataframe\">\n",
       "  <thead>\n",
       "    <tr style=\"text-align: right;\">\n",
       "      <th></th>\n",
       "      <th>MSSubClass</th>\n",
       "      <th>LotFrontage</th>\n",
       "      <th>LotArea</th>\n",
       "      <th>OverallQual</th>\n",
       "      <th>OverallCond</th>\n",
       "      <th>YearBuilt</th>\n",
       "      <th>YearRemodAdd</th>\n",
       "      <th>MasVnrArea</th>\n",
       "      <th>BsmtFinSF1</th>\n",
       "      <th>BsmtFinSF2</th>\n",
       "      <th>...</th>\n",
       "      <th>244</th>\n",
       "      <th>245</th>\n",
       "      <th>246</th>\n",
       "      <th>247</th>\n",
       "      <th>248</th>\n",
       "      <th>249</th>\n",
       "      <th>250</th>\n",
       "      <th>251</th>\n",
       "      <th>252</th>\n",
       "      <th>253</th>\n",
       "    </tr>\n",
       "  </thead>\n",
       "  <tbody>\n",
       "    <tr>\n",
       "      <th>0</th>\n",
       "      <td>-0.864423</td>\n",
       "      <td>3.658596</td>\n",
       "      <td>0.376557</td>\n",
       "      <td>0.667609</td>\n",
       "      <td>-0.491447</td>\n",
       "      <td>1.086519</td>\n",
       "      <td>0.940929</td>\n",
       "      <td>-0.569342</td>\n",
       "      <td>1.973624</td>\n",
       "      <td>-0.301270</td>\n",
       "      <td>...</td>\n",
       "      <td>0.0</td>\n",
       "      <td>0.0</td>\n",
       "      <td>0.0</td>\n",
       "      <td>1.0</td>\n",
       "      <td>0.0</td>\n",
       "      <td>0.0</td>\n",
       "      <td>0.0</td>\n",
       "      <td>1.0</td>\n",
       "      <td>0.0</td>\n",
       "      <td>0.0</td>\n",
       "    </tr>\n",
       "    <tr>\n",
       "      <th>1</th>\n",
       "      <td>-0.864423</td>\n",
       "      <td>-1.674078</td>\n",
       "      <td>-0.107533</td>\n",
       "      <td>-0.797984</td>\n",
       "      <td>-0.491447</td>\n",
       "      <td>-0.433486</td>\n",
       "      <td>-0.081710</td>\n",
       "      <td>-0.569342</td>\n",
       "      <td>0.027428</td>\n",
       "      <td>2.089934</td>\n",
       "      <td>...</td>\n",
       "      <td>0.0</td>\n",
       "      <td>0.0</td>\n",
       "      <td>0.0</td>\n",
       "      <td>1.0</td>\n",
       "      <td>0.0</td>\n",
       "      <td>0.0</td>\n",
       "      <td>0.0</td>\n",
       "      <td>0.0</td>\n",
       "      <td>1.0</td>\n",
       "      <td>0.0</td>\n",
       "    </tr>\n",
       "    <tr>\n",
       "      <th>2</th>\n",
       "      <td>0.676774</td>\n",
       "      <td>0.494152</td>\n",
       "      <td>-0.180399</td>\n",
       "      <td>-0.797984</td>\n",
       "      <td>0.400269</td>\n",
       "      <td>0.359560</td>\n",
       "      <td>-0.130407</td>\n",
       "      <td>-0.569342</td>\n",
       "      <td>0.523788</td>\n",
       "      <td>-0.301270</td>\n",
       "      <td>...</td>\n",
       "      <td>0.0</td>\n",
       "      <td>0.0</td>\n",
       "      <td>0.0</td>\n",
       "      <td>1.0</td>\n",
       "      <td>0.0</td>\n",
       "      <td>0.0</td>\n",
       "      <td>0.0</td>\n",
       "      <td>0.0</td>\n",
       "      <td>1.0</td>\n",
       "      <td>0.0</td>\n",
       "    </tr>\n",
       "    <tr>\n",
       "      <th>3</th>\n",
       "      <td>1.506649</td>\n",
       "      <td>-0.677864</td>\n",
       "      <td>-0.537473</td>\n",
       "      <td>0.667609</td>\n",
       "      <td>-0.491447</td>\n",
       "      <td>1.185650</td>\n",
       "      <td>1.135718</td>\n",
       "      <td>0.340068</td>\n",
       "      <td>1.059396</td>\n",
       "      <td>-0.301270</td>\n",
       "      <td>...</td>\n",
       "      <td>0.0</td>\n",
       "      <td>0.0</td>\n",
       "      <td>0.0</td>\n",
       "      <td>1.0</td>\n",
       "      <td>0.0</td>\n",
       "      <td>0.0</td>\n",
       "      <td>0.0</td>\n",
       "      <td>0.0</td>\n",
       "      <td>1.0</td>\n",
       "      <td>0.0</td>\n",
       "    </tr>\n",
       "    <tr>\n",
       "      <th>4</th>\n",
       "      <td>0.084006</td>\n",
       "      <td>0.464852</td>\n",
       "      <td>-0.178489</td>\n",
       "      <td>0.667609</td>\n",
       "      <td>-0.491447</td>\n",
       "      <td>1.152606</td>\n",
       "      <td>1.038323</td>\n",
       "      <td>-0.569342</td>\n",
       "      <td>0.043588</td>\n",
       "      <td>-0.301270</td>\n",
       "      <td>...</td>\n",
       "      <td>0.0</td>\n",
       "      <td>1.0</td>\n",
       "      <td>0.0</td>\n",
       "      <td>0.0</td>\n",
       "      <td>0.0</td>\n",
       "      <td>0.0</td>\n",
       "      <td>0.0</td>\n",
       "      <td>0.0</td>\n",
       "      <td>0.0</td>\n",
       "      <td>1.0</td>\n",
       "    </tr>\n",
       "  </tbody>\n",
       "</table>\n",
       "<p>5 rows × 294 columns</p>\n",
       "</div>"
      ],
      "text/plain": [
       "   MSSubClass  LotFrontage   LotArea  OverallQual  OverallCond  YearBuilt  \\\n",
       "0   -0.864423     3.658596  0.376557     0.667609    -0.491447   1.086519   \n",
       "1   -0.864423    -1.674078 -0.107533    -0.797984    -0.491447  -0.433486   \n",
       "2    0.676774     0.494152 -0.180399    -0.797984     0.400269   0.359560   \n",
       "3    1.506649    -0.677864 -0.537473     0.667609    -0.491447   1.185650   \n",
       "4    0.084006     0.464852 -0.178489     0.667609    -0.491447   1.152606   \n",
       "\n",
       "   YearRemodAdd  MasVnrArea  BsmtFinSF1  BsmtFinSF2  ...  244  245  246  247  \\\n",
       "0      0.940929   -0.569342    1.973624   -0.301270  ...  0.0  0.0  0.0  1.0   \n",
       "1     -0.081710   -0.569342    0.027428    2.089934  ...  0.0  0.0  0.0  1.0   \n",
       "2     -0.130407   -0.569342    0.523788   -0.301270  ...  0.0  0.0  0.0  1.0   \n",
       "3      1.135718    0.340068    1.059396   -0.301270  ...  0.0  0.0  0.0  1.0   \n",
       "4      1.038323   -0.569342    0.043588   -0.301270  ...  0.0  1.0  0.0  0.0   \n",
       "\n",
       "   248  249  250  251  252  253  \n",
       "0  0.0  0.0  0.0  1.0  0.0  0.0  \n",
       "1  0.0  0.0  0.0  0.0  1.0  0.0  \n",
       "2  0.0  0.0  0.0  0.0  1.0  0.0  \n",
       "3  0.0  0.0  0.0  0.0  1.0  0.0  \n",
       "4  0.0  0.0  0.0  0.0  0.0  1.0  \n",
       "\n",
       "[5 rows x 294 columns]"
      ]
     },
     "execution_count": 485,
     "metadata": {},
     "output_type": "execute_result"
    }
   ],
   "source": [
    "X_train_encoded.head()"
   ]
  },
  {
   "cell_type": "code",
   "execution_count": 486,
   "id": "fe1cf32a",
   "metadata": {},
   "outputs": [
    {
     "name": "stdout",
     "output_type": "stream",
     "text": [
      "529     200624\n",
      "491     133000\n",
      "459     110000\n",
      "279     192000\n",
      "655      88000\n",
      "1013     85000\n",
      "1403    282922\n",
      "601     141000\n",
      "1182    745000\n",
      "687     148800\n",
      "1317    208900\n",
      "1003    136905\n",
      "1300    225000\n",
      "1392    123000\n",
      "1014    119200\n",
      "Name: SalePrice, dtype: int64 [ 2.41860000e+05  1.44996000e+05  1.11220000e+05  2.12404000e+05\n",
      "  1.00528000e+05  6.99160000e+04  2.63908000e+05  1.44872000e+05\n",
      "  5.52328000e+05  1.48716000e+05  2.07604000e+05 -1.07005818e+15\n",
      "  2.34124000e+05  1.08644000e+05  1.08684000e+05]\n"
     ]
    }
   ],
   "source": [
    "print(y_test.head(15), y_pred[:15])"
   ]
  },
  {
   "cell_type": "code",
   "execution_count": 487,
   "id": "289d70f7",
   "metadata": {},
   "outputs": [
    {
     "data": {
      "text/html": [
       "<div>\n",
       "<style scoped>\n",
       "    .dataframe tbody tr th:only-of-type {\n",
       "        vertical-align: middle;\n",
       "    }\n",
       "\n",
       "    .dataframe tbody tr th {\n",
       "        vertical-align: top;\n",
       "    }\n",
       "\n",
       "    .dataframe thead th {\n",
       "        text-align: right;\n",
       "    }\n",
       "</style>\n",
       "<table border=\"1\" class=\"dataframe\">\n",
       "  <thead>\n",
       "    <tr style=\"text-align: right;\">\n",
       "      <th></th>\n",
       "      <th>MSSubClass</th>\n",
       "      <th>LotFrontage</th>\n",
       "      <th>LotArea</th>\n",
       "      <th>OverallQual</th>\n",
       "      <th>OverallCond</th>\n",
       "      <th>YearBuilt</th>\n",
       "      <th>YearRemodAdd</th>\n",
       "      <th>MasVnrArea</th>\n",
       "      <th>BsmtFinSF1</th>\n",
       "      <th>BsmtFinSF2</th>\n",
       "      <th>...</th>\n",
       "      <th>244</th>\n",
       "      <th>245</th>\n",
       "      <th>246</th>\n",
       "      <th>247</th>\n",
       "      <th>248</th>\n",
       "      <th>249</th>\n",
       "      <th>250</th>\n",
       "      <th>251</th>\n",
       "      <th>252</th>\n",
       "      <th>253</th>\n",
       "    </tr>\n",
       "  </thead>\n",
       "  <tbody>\n",
       "    <tr>\n",
       "      <th>9</th>\n",
       "      <td>2.455079</td>\n",
       "      <td>-1.674078</td>\n",
       "      <td>-0.527541</td>\n",
       "      <td>0.667609</td>\n",
       "      <td>-0.491447</td>\n",
       "      <td>1.086519</td>\n",
       "      <td>0.940929</td>\n",
       "      <td>-0.569342</td>\n",
       "      <td>-0.475859</td>\n",
       "      <td>-0.30127</td>\n",
       "      <td>...</td>\n",
       "      <td>0.0</td>\n",
       "      <td>0.0</td>\n",
       "      <td>0.0</td>\n",
       "      <td>1.0</td>\n",
       "      <td>0.0</td>\n",
       "      <td>0.0</td>\n",
       "      <td>0.0</td>\n",
       "      <td>0.0</td>\n",
       "      <td>1.0</td>\n",
       "      <td>0.0</td>\n",
       "    </tr>\n",
       "    <tr>\n",
       "      <th>10</th>\n",
       "      <td>1.506649</td>\n",
       "      <td>-0.296959</td>\n",
       "      <td>-0.611104</td>\n",
       "      <td>0.667609</td>\n",
       "      <td>-0.491447</td>\n",
       "      <td>1.152606</td>\n",
       "      <td>1.087021</td>\n",
       "      <td>-0.569342</td>\n",
       "      <td>-1.027628</td>\n",
       "      <td>-0.30127</td>\n",
       "      <td>...</td>\n",
       "      <td>0.0</td>\n",
       "      <td>1.0</td>\n",
       "      <td>0.0</td>\n",
       "      <td>0.0</td>\n",
       "      <td>0.0</td>\n",
       "      <td>0.0</td>\n",
       "      <td>0.0</td>\n",
       "      <td>0.0</td>\n",
       "      <td>0.0</td>\n",
       "      <td>1.0</td>\n",
       "    </tr>\n",
       "    <tr>\n",
       "      <th>11</th>\n",
       "      <td>0.795328</td>\n",
       "      <td>-1.674078</td>\n",
       "      <td>0.083181</td>\n",
       "      <td>-0.797984</td>\n",
       "      <td>0.400269</td>\n",
       "      <td>0.161299</td>\n",
       "      <td>-0.422589</td>\n",
       "      <td>0.329112</td>\n",
       "      <td>-1.027628</td>\n",
       "      <td>-0.30127</td>\n",
       "      <td>...</td>\n",
       "      <td>0.0</td>\n",
       "      <td>0.0</td>\n",
       "      <td>0.0</td>\n",
       "      <td>1.0</td>\n",
       "      <td>0.0</td>\n",
       "      <td>0.0</td>\n",
       "      <td>0.0</td>\n",
       "      <td>0.0</td>\n",
       "      <td>1.0</td>\n",
       "      <td>0.0</td>\n",
       "    </tr>\n",
       "  </tbody>\n",
       "</table>\n",
       "<p>3 rows × 294 columns</p>\n",
       "</div>"
      ],
      "text/plain": [
       "    MSSubClass  LotFrontage   LotArea  OverallQual  OverallCond  YearBuilt  \\\n",
       "9     2.455079    -1.674078 -0.527541     0.667609    -0.491447   1.086519   \n",
       "10    1.506649    -0.296959 -0.611104     0.667609    -0.491447   1.152606   \n",
       "11    0.795328    -1.674078  0.083181    -0.797984     0.400269   0.161299   \n",
       "\n",
       "    YearRemodAdd  MasVnrArea  BsmtFinSF1  BsmtFinSF2  ...  244  245  246  247  \\\n",
       "9       0.940929   -0.569342   -0.475859    -0.30127  ...  0.0  0.0  0.0  1.0   \n",
       "10      1.087021   -0.569342   -1.027628    -0.30127  ...  0.0  1.0  0.0  0.0   \n",
       "11     -0.422589    0.329112   -1.027628    -0.30127  ...  0.0  0.0  0.0  1.0   \n",
       "\n",
       "    248  249  250  251  252  253  \n",
       "9   0.0  0.0  0.0  0.0  1.0  0.0  \n",
       "10  0.0  0.0  0.0  0.0  0.0  1.0  \n",
       "11  0.0  0.0  0.0  0.0  1.0  0.0  \n",
       "\n",
       "[3 rows x 294 columns]"
      ]
     },
     "execution_count": 487,
     "metadata": {},
     "output_type": "execute_result"
    }
   ],
   "source": [
    "X_test_encoded[9:12]"
   ]
  },
  {
   "cell_type": "code",
   "execution_count": 489,
   "id": "ed1dd4c2",
   "metadata": {},
   "outputs": [
    {
     "data": {
      "image/png": "[encoded data removed]",
      "text/plain": [
       "<Figure size 640x480 with 1 Axes>"
      ]
     },
     "metadata": {},
     "output_type": "display_data"
    }
   ],
   "source": [
    "reg = LinearRegression().fit(X_train_encoded, y_train)\n",
    "y_pred = reg.predict(X_test_encoded)\n",
    "print(\"Root mean squared error: %.2f\" % mean_squared_error(y_test, y_pred, squared = False))\n",
    "print(\"Mean squared error: %.2f\" % mean_squared_error(y_test, y_pred))\n",
    "print(\"Coefficient of determination: %.2f\" % r2_score(y_test, y_pred))\n",
    "plt.figure(figsize=(10,10))\n",
    "plt.plot(y_test, y_pred)\n",
    "p1 = max(max(y_pred), max(y_test))\n",
    "p2 = min(min(y_pred), min(y_test))\n",
    "print(p1, p2)\n",
    "plt.plot([p1, p2], [p1, p2], 'b-')\n",
    "plt.xlabel('True Values', fontsize=15)\n",
    "plt.ylabel('Predictions', fontsize=15)\n",
    "plt.axis('equal')\n",
    "plt.show()"
   ]
  },
  {
   "cell_type": "code",
   "execution_count": 490,
   "id": "c56bc4b9",
   "metadata": {},
   "outputs": [
    {
     "name": "stdout",
     "output_type": "stream",
     "text": [
      "11 1070058183860413.0\n",
      "46 1070058183875404.0\n",
      "155 823746565870796.0\n",
      "175 915667639539412.0\n",
      "185 915667639550972.0\n",
      "215 477929221097288.0\n",
      "242 825407877433044.0\n",
      "259 1638989483445218.0\n",
      "267 1070058183880848.0\n",
      "360 1070058183906020.0\n",
      "433 1638989482622704.0\n",
      "447 421521233492824.0\n"
     ]
    }
   ],
   "source": [
    "for i in range(len(y_pred)):\n",
    "    if (abs(y_test.array[i] - y_pred[i]) > 1000000):\n",
    "        print(i, abs(y_test.array[i] - y_pred[i]))"
   ]
  },
  {
   "cell_type": "markdown",
   "id": "c610e4f2",
   "metadata": {},
   "source": [
    "### P.S. At first it worked well and the error was about 48k, but at one point of time it started to train like this (12 predictions with a very big price) so I excluded this model from the summary"
   ]
  },
  {
   "cell_type": "code",
   "execution_count": 491,
   "id": "7a032703",
   "metadata": {},
   "outputs": [
    {
     "name": "stdout",
     "output_type": "stream",
     "text": [
      "Root mean squared error: 41839.54\n",
      "Mean squared error: 1750547060.42\n",
      "Coefficient of determination: 0.73\n",
      "[51848.26732747 25497.64007867 82318.35610771 27773.05698155\n",
      " 52900.44874167]\n",
      "48067.55384741504\n"
     ]
    },
    {
     "data": {
      "image/png": "[encoded data removed]",
      "text/plain": [
       "<Figure size 1000x1000 with 1 Axes>"
      ]
     },
     "metadata": {},
     "output_type": "display_data"
    }
   ],
   "source": [
    "lasso = Lasso(alpha = 50, max_iter=100000).fit(X_train_encoded, y_train)\n",
    "y_pred = lasso.predict(X_test_encoded)\n",
    "print(\"Root mean squared error: %.2f\" % mean_squared_error(y_test, y_pred, squared = False))\n",
    "print(\"Mean squared error: %.2f\" % mean_squared_error(y_test, y_pred))\n",
    "print(\"Coefficient of determination: %.2f\" % r2_score(y_test, y_pred))\n",
    "scores = -cross_val_score(lasso, X_test_encoded, y_test, cv=5, scoring='neg_root_mean_squared_error')\n",
    "print(scores)\n",
    "print(scores.mean())\n",
    "plt.figure(figsize=(10,10))\n",
    "plt.scatter(y_test, y_pred, c='crimson')\n",
    "\n",
    "p1 = max(max(y_pred), max(y_test))\n",
    "p2 = min(min(y_pred), min(y_test))\n",
    "plt.plot([p1, p2], [p1, p2], 'b-')\n",
    "plt.xlabel('True Values', fontsize=15)\n",
    "plt.ylabel('Predictions', fontsize=15)\n",
    "plt.axis('equal')\n",
    "plt.show()"
   ]
  },
  {
   "cell_type": "code",
   "execution_count": 492,
   "id": "701a9458",
   "metadata": {},
   "outputs": [],
   "source": [
    "for i in range(len(y_pred)):\n",
    "    if (abs(y_test.array[i] - y_pred[i]) > 1000000):\n",
    "        print(i, abs(y_test.array[i] - y_pred[i]))"
   ]
  },
  {
   "cell_type": "code",
   "execution_count": 271,
   "id": "0c7a6d72",
   "metadata": {},
   "outputs": [
    {
     "name": "stdout",
     "output_type": "stream",
     "text": [
      "Root mean squared error: 37541.76\n",
      "Mean squared error: 1409383702.00\n",
      "Coefficient of determination: 0.78\n",
      "[55710.80323264 22491.7467412  82637.71641412 26289.23726197\n",
      " 33120.56200446]\n",
      "44050.013130878026\n"
     ]
    },
    {
     "data": {
      "image/png": "[encoded data removed]",
      "text/plain": [
       "<Figure size 1000x1000 with 1 Axes>"
      ]
     },
     "metadata": {},
     "output_type": "display_data"
    }
   ],
   "source": [
    "ridge = Ridge(alpha = 50).fit(X_train_encoded, y_train)\n",
    "y_pred = ridge.predict(X_test_encoded)\n",
    "print(\"Root mean squared error: %.2f\" % mean_squared_error(y_test, y_pred, squared = False))\n",
    "print(\"Mean squared error: %.2f\" % mean_squared_error(y_test, y_pred))\n",
    "print(\"Coefficient of determination: %.2f\" % r2_score(y_test, y_pred))\n",
    "\n",
    "scores = -cross_val_score(ridge, X_test_encoded, y_test, cv=5, scoring='neg_root_mean_squared_error')\n",
    "print(scores)\n",
    "print(scores.mean())\n",
    "\n",
    "plt.figure(figsize=(10,10))\n",
    "plt.scatter(y_test, y_pred, c='crimson')\n",
    "\n",
    "p1 = max(max(y_pred), max(y_test))\n",
    "p2 = min(min(y_pred), min(y_test))\n",
    "plt.plot([p1, p2], [p1, p2], 'b-')\n",
    "plt.xlabel('True Values', fontsize=15)\n",
    "plt.ylabel('Predictions', fontsize=15)\n",
    "plt.axis('equal')\n",
    "plt.show()"
   ]
  },
  {
   "cell_type": "code",
   "execution_count": 273,
   "id": "78b04638",
   "metadata": {},
   "outputs": [
    {
     "name": "stdout",
     "output_type": "stream",
     "text": [
      "Root mean squared error: 36804.49\n",
      "Mean squared error: 1354570222.16\n",
      "Coefficient of determination: 0.79\n"
     ]
    },
    {
     "name": "stderr",
     "output_type": "stream",
     "text": [
      "c:\\users\\38095\\appdata\\local\\programs\\python\\python39\\lib\\site-packages\\sklearn\\model_selection\\_split.py:666: UserWarning: The least populated class in y has only 1 members, which is less than n_splits=4.\n",
      "  warnings.warn((\"The least populated class in y has only %d\"\n"
     ]
    },
    {
     "name": "stdout",
     "output_type": "stream",
     "text": [
      "[40992.78689937 42493.10969376 54785.59584462 52919.60070703]\n",
      "47797.77328619546\n"
     ]
    },
    {
     "data": {
      "image/png": "[encoded data removed]",
      "text/plain": [
       "<Figure size 1000x1000 with 1 Axes>"
      ]
     },
     "metadata": {},
     "output_type": "display_data"
    }
   ],
   "source": [
    "forest = RandomForestClassifier(n_estimators=1000).fit(X_train_encoded, y_train)\n",
    "y_pred = forest.predict(X_test_encoded)\n",
    "print(\"Root mean squared error: %.2f\" % mean_squared_error(y_test, y_pred, squared = False))\n",
    "print(\"Mean squared error: %.2f\" % mean_squared_error(y_test, y_pred))\n",
    "print(\"Coefficient of determination: %.2f\" % r2_score(y_test, y_pred))\n",
    "\n",
    "scores = -cross_val_score(forest, X_test_encoded, y_test, cv=4, scoring='neg_root_mean_squared_error')\n",
    "print(scores)\n",
    "print(scores.mean())\n",
    "\n",
    "plt.figure(figsize=(10,10))\n",
    "plt.scatter(y_test, y_pred, c='crimson')\n",
    "\n",
    "p1 = max(max(y_pred), max(y_test))\n",
    "p2 = min(min(y_pred), min(y_test))\n",
    "plt.plot([p1, p2], [p1, p2], 'b-')\n",
    "plt.xlabel('True Values', fontsize=15)\n",
    "plt.ylabel('Predictions', fontsize=15)\n",
    "plt.axis('equal')\n",
    "plt.show()"
   ]
  },
  {
   "cell_type": "code",
   "execution_count": 246,
   "id": "e30b5226",
   "metadata": {},
   "outputs": [],
   "source": [
    "importantFeatures = pd.DataFrame(data=forest.feature_importances_, index=X_train_encoded.columns, columns=['Importance'])"
   ]
  },
  {
   "cell_type": "code",
   "execution_count": 247,
   "id": "b42bc80f",
   "metadata": {},
   "outputs": [],
   "source": [
    "importantFeatures = importantFeatures.sort_values(by='Importance', ascending=False)"
   ]
  },
  {
   "cell_type": "code",
   "execution_count": 248,
   "id": "4e93128d",
   "metadata": {},
   "outputs": [
    {
     "data": {
      "text/html": [
       "<div>\n",
       "<style scoped>\n",
       "    .dataframe tbody tr th:only-of-type {\n",
       "        vertical-align: middle;\n",
       "    }\n",
       "\n",
       "    .dataframe tbody tr th {\n",
       "        vertical-align: top;\n",
       "    }\n",
       "\n",
       "    .dataframe thead th {\n",
       "        text-align: right;\n",
       "    }\n",
       "</style>\n",
       "<table border=\"1\" class=\"dataframe\">\n",
       "  <thead>\n",
       "    <tr style=\"text-align: right;\">\n",
       "      <th></th>\n",
       "      <th>Importance</th>\n",
       "    </tr>\n",
       "  </thead>\n",
       "  <tbody>\n",
       "    <tr>\n",
       "      <th>GrLivArea</th>\n",
       "      <td>0.027555</td>\n",
       "    </tr>\n",
       "    <tr>\n",
       "      <th>LotArea</th>\n",
       "      <td>0.026582</td>\n",
       "    </tr>\n",
       "    <tr>\n",
       "      <th>1stFlrSF</th>\n",
       "      <td>0.026276</td>\n",
       "    </tr>\n",
       "    <tr>\n",
       "      <th>BsmtUnfSF</th>\n",
       "      <td>0.026021</td>\n",
       "    </tr>\n",
       "    <tr>\n",
       "      <th>GarageArea</th>\n",
       "      <td>0.025631</td>\n",
       "    </tr>\n",
       "    <tr>\n",
       "      <th>...</th>\n",
       "      <td>...</td>\n",
       "    </tr>\n",
       "    <tr>\n",
       "      <th>18</th>\n",
       "      <td>0.000113</td>\n",
       "    </tr>\n",
       "    <tr>\n",
       "      <th>109</th>\n",
       "      <td>0.000105</td>\n",
       "    </tr>\n",
       "    <tr>\n",
       "      <th>65</th>\n",
       "      <td>0.000101</td>\n",
       "    </tr>\n",
       "    <tr>\n",
       "      <th>88</th>\n",
       "      <td>0.000097</td>\n",
       "    </tr>\n",
       "    <tr>\n",
       "      <th>66</th>\n",
       "      <td>0.000077</td>\n",
       "    </tr>\n",
       "  </tbody>\n",
       "</table>\n",
       "<p>294 rows × 1 columns</p>\n",
       "</div>"
      ],
      "text/plain": [
       "            Importance\n",
       "GrLivArea     0.027555\n",
       "LotArea       0.026582\n",
       "1stFlrSF      0.026276\n",
       "BsmtUnfSF     0.026021\n",
       "GarageArea    0.025631\n",
       "...                ...\n",
       "18            0.000113\n",
       "109           0.000105\n",
       "65            0.000101\n",
       "88            0.000097\n",
       "66            0.000077\n",
       "\n",
       "[294 rows x 1 columns]"
      ]
     },
     "execution_count": 248,
     "metadata": {},
     "output_type": "execute_result"
    }
   ],
   "source": [
    "importantFeatures"
   ]
  },
  {
   "cell_type": "markdown",
   "id": "e53bc99f",
   "metadata": {},
   "source": [
    "### We can see that forest model performs the best, while lasso and ridge are a bit worse. Let's tune our hyperparameters"
   ]
  },
  {
   "cell_type": "code",
   "execution_count": 250,
   "id": "06544706",
   "metadata": {},
   "outputs": [
    {
     "data": {
      "text/html": [
       "<div>\n",
       "<style scoped>\n",
       "    .dataframe tbody tr th:only-of-type {\n",
       "        vertical-align: middle;\n",
       "    }\n",
       "\n",
       "    .dataframe tbody tr th {\n",
       "        vertical-align: top;\n",
       "    }\n",
       "\n",
       "    .dataframe thead th {\n",
       "        text-align: right;\n",
       "    }\n",
       "</style>\n",
       "<table border=\"1\" class=\"dataframe\">\n",
       "  <thead>\n",
       "    <tr style=\"text-align: right;\">\n",
       "      <th></th>\n",
       "      <th>MSSubClass</th>\n",
       "      <th>LotFrontage</th>\n",
       "      <th>LotArea</th>\n",
       "      <th>OverallQual</th>\n",
       "      <th>OverallCond</th>\n",
       "      <th>YearBuilt</th>\n",
       "      <th>YearRemodAdd</th>\n",
       "      <th>MasVnrArea</th>\n",
       "      <th>BsmtFinSF1</th>\n",
       "      <th>BsmtFinSF2</th>\n",
       "      <th>...</th>\n",
       "      <th>244</th>\n",
       "      <th>245</th>\n",
       "      <th>246</th>\n",
       "      <th>247</th>\n",
       "      <th>248</th>\n",
       "      <th>249</th>\n",
       "      <th>250</th>\n",
       "      <th>251</th>\n",
       "      <th>252</th>\n",
       "      <th>253</th>\n",
       "    </tr>\n",
       "  </thead>\n",
       "  <tbody>\n",
       "    <tr>\n",
       "      <th>0</th>\n",
       "      <td>-0.864423</td>\n",
       "      <td>-1.674078</td>\n",
       "      <td>2.104723</td>\n",
       "      <td>-0.065187</td>\n",
       "      <td>-2.274880</td>\n",
       "      <td>-0.466529</td>\n",
       "      <td>-0.471286</td>\n",
       "      <td>-0.569342</td>\n",
       "      <td>1.786623</td>\n",
       "      <td>-0.301270</td>\n",
       "      <td>...</td>\n",
       "      <td>0.0</td>\n",
       "      <td>0.0</td>\n",
       "      <td>0.0</td>\n",
       "      <td>1.0</td>\n",
       "      <td>0.0</td>\n",
       "      <td>0.0</td>\n",
       "      <td>1.0</td>\n",
       "      <td>0.0</td>\n",
       "      <td>0.0</td>\n",
       "      <td>0.0</td>\n",
       "    </tr>\n",
       "    <tr>\n",
       "      <th>1</th>\n",
       "      <td>-0.153101</td>\n",
       "      <td>0.640654</td>\n",
       "      <td>-0.108774</td>\n",
       "      <td>-0.065187</td>\n",
       "      <td>1.291986</td>\n",
       "      <td>-0.995227</td>\n",
       "      <td>-1.688713</td>\n",
       "      <td>-0.569342</td>\n",
       "      <td>-0.097240</td>\n",
       "      <td>0.753673</td>\n",
       "      <td>...</td>\n",
       "      <td>0.0</td>\n",
       "      <td>0.0</td>\n",
       "      <td>0.0</td>\n",
       "      <td>1.0</td>\n",
       "      <td>0.0</td>\n",
       "      <td>0.0</td>\n",
       "      <td>0.0</td>\n",
       "      <td>0.0</td>\n",
       "      <td>1.0</td>\n",
       "      <td>0.0</td>\n",
       "    </tr>\n",
       "    <tr>\n",
       "      <th>2</th>\n",
       "      <td>-0.153101</td>\n",
       "      <td>-1.674078</td>\n",
       "      <td>-0.345136</td>\n",
       "      <td>-0.797984</td>\n",
       "      <td>-1.383164</td>\n",
       "      <td>-0.697834</td>\n",
       "      <td>-1.688713</td>\n",
       "      <td>0.312676</td>\n",
       "      <td>-0.600526</td>\n",
       "      <td>-0.301270</td>\n",
       "      <td>...</td>\n",
       "      <td>0.0</td>\n",
       "      <td>0.0</td>\n",
       "      <td>0.0</td>\n",
       "      <td>1.0</td>\n",
       "      <td>0.0</td>\n",
       "      <td>0.0</td>\n",
       "      <td>0.0</td>\n",
       "      <td>0.0</td>\n",
       "      <td>1.0</td>\n",
       "      <td>0.0</td>\n",
       "    </tr>\n",
       "    <tr>\n",
       "      <th>3</th>\n",
       "      <td>0.084006</td>\n",
       "      <td>0.757856</td>\n",
       "      <td>-0.059592</td>\n",
       "      <td>0.667609</td>\n",
       "      <td>-0.491447</td>\n",
       "      <td>0.194342</td>\n",
       "      <td>-0.373892</td>\n",
       "      <td>1.068693</td>\n",
       "      <td>-0.122635</td>\n",
       "      <td>-0.301270</td>\n",
       "      <td>...</td>\n",
       "      <td>0.0</td>\n",
       "      <td>0.0</td>\n",
       "      <td>0.0</td>\n",
       "      <td>1.0</td>\n",
       "      <td>0.0</td>\n",
       "      <td>0.0</td>\n",
       "      <td>0.0</td>\n",
       "      <td>0.0</td>\n",
       "      <td>1.0</td>\n",
       "      <td>0.0</td>\n",
       "    </tr>\n",
       "    <tr>\n",
       "      <th>4</th>\n",
       "      <td>2.455079</td>\n",
       "      <td>-1.058769</td>\n",
       "      <td>-0.854628</td>\n",
       "      <td>-0.065187</td>\n",
       "      <td>-0.491447</td>\n",
       "      <td>-0.003919</td>\n",
       "      <td>-0.666075</td>\n",
       "      <td>1.517920</td>\n",
       "      <td>-1.027628</td>\n",
       "      <td>-0.301270</td>\n",
       "      <td>...</td>\n",
       "      <td>0.0</td>\n",
       "      <td>0.0</td>\n",
       "      <td>0.0</td>\n",
       "      <td>1.0</td>\n",
       "      <td>0.0</td>\n",
       "      <td>0.0</td>\n",
       "      <td>0.0</td>\n",
       "      <td>1.0</td>\n",
       "      <td>0.0</td>\n",
       "      <td>0.0</td>\n",
       "    </tr>\n",
       "  </tbody>\n",
       "</table>\n",
       "<p>5 rows × 294 columns</p>\n",
       "</div>"
      ],
      "text/plain": [
       "   MSSubClass  LotFrontage   LotArea  OverallQual  OverallCond  YearBuilt  \\\n",
       "0   -0.864423    -1.674078  2.104723    -0.065187    -2.274880  -0.466529   \n",
       "1   -0.153101     0.640654 -0.108774    -0.065187     1.291986  -0.995227   \n",
       "2   -0.153101    -1.674078 -0.345136    -0.797984    -1.383164  -0.697834   \n",
       "3    0.084006     0.757856 -0.059592     0.667609    -0.491447   0.194342   \n",
       "4    2.455079    -1.058769 -0.854628    -0.065187    -0.491447  -0.003919   \n",
       "\n",
       "   YearRemodAdd  MasVnrArea  BsmtFinSF1  BsmtFinSF2  ...  244  245  246  247  \\\n",
       "0     -0.471286   -0.569342    1.786623   -0.301270  ...  0.0  0.0  0.0  1.0   \n",
       "1     -1.688713   -0.569342   -0.097240    0.753673  ...  0.0  0.0  0.0  1.0   \n",
       "2     -1.688713    0.312676   -0.600526   -0.301270  ...  0.0  0.0  0.0  1.0   \n",
       "3     -0.373892    1.068693   -0.122635   -0.301270  ...  0.0  0.0  0.0  1.0   \n",
       "4     -0.666075    1.517920   -1.027628   -0.301270  ...  0.0  0.0  0.0  1.0   \n",
       "\n",
       "   248  249  250  251  252  253  \n",
       "0  0.0  0.0  1.0  0.0  0.0  0.0  \n",
       "1  0.0  0.0  0.0  0.0  1.0  0.0  \n",
       "2  0.0  0.0  0.0  0.0  1.0  0.0  \n",
       "3  0.0  0.0  0.0  0.0  1.0  0.0  \n",
       "4  0.0  0.0  0.0  1.0  0.0  0.0  \n",
       "\n",
       "[5 rows x 294 columns]"
      ]
     },
     "execution_count": 250,
     "metadata": {},
     "output_type": "execute_result"
    }
   ],
   "source": [
    "X_test_encoded.head()"
   ]
  },
  {
   "cell_type": "code",
   "execution_count": 164,
   "id": "c2b04d85",
   "metadata": {},
   "outputs": [
    {
     "data": {
      "text/plain": [
       "['mean_fit_time',\n",
       " 'mean_score_time',\n",
       " 'mean_test_score',\n",
       " 'param_alpha',\n",
       " 'params',\n",
       " 'rank_test_score',\n",
       " 'split0_test_score',\n",
       " 'split1_test_score',\n",
       " 'split2_test_score',\n",
       " 'split3_test_score',\n",
       " 'split4_test_score',\n",
       " 'std_fit_time',\n",
       " 'std_score_time',\n",
       " 'std_test_score']"
      ]
     },
     "execution_count": 164,
     "metadata": {},
     "output_type": "execute_result"
    }
   ],
   "source": [
    "sorted(lassoSearch.cv_results_.keys())"
   ]
  },
  {
   "cell_type": "code",
   "execution_count": 278,
   "id": "828bc415",
   "metadata": {},
   "outputs": [
    {
     "data": {
      "text/plain": [
       "GridSearchCV(estimator=Ridge(),\n",
       "             param_grid={'alpha': [10, 20, 30, 40, 50, 60, 70, 80, 90, 100, 110,\n",
       "                                   120, 130, 140, 150, 160, 170, 180, 190,\n",
       "                                   200]})"
      ]
     },
     "execution_count": 278,
     "metadata": {},
     "output_type": "execute_result"
    }
   ],
   "source": [
    "ridge = Ridge()\n",
    "parameters = {'alpha' : [i for i in range(10, 201, 10)]}\n",
    "ridgeSearch = GridSearchCV(ridge, parameters)\n",
    "ridgeSearch.fit(X_train_encoded, y_train)"
   ]
  },
  {
   "cell_type": "code",
   "execution_count": 279,
   "id": "f7174ec2",
   "metadata": {},
   "outputs": [
    {
     "name": "stdout",
     "output_type": "stream",
     "text": [
      "Root mean squared error: 37236.54\n",
      "Mean squared error: 1386560089.23\n",
      "Coefficient of determination: 0.79\n"
     ]
    }
   ],
   "source": [
    "y_pred = ridgeSearch.predict(X_test_encoded)\n",
    "print(\"Root mean squared error: %.2f\" % mean_squared_error(y_test, y_pred, squared = False))\n",
    "print(\"Mean squared error: %.2f\" % mean_squared_error(y_test, y_pred))\n",
    "print(\"Coefficient of determination: %.2f\" % r2_score(y_test, y_pred))"
   ]
  },
  {
   "cell_type": "code",
   "execution_count": 286,
   "id": "68b42227",
   "metadata": {},
   "outputs": [
    {
     "name": "stderr",
     "output_type": "stream",
     "text": [
      "c:\\users\\38095\\appdata\\local\\programs\\python\\python39\\lib\\site-packages\\sklearn\\model_selection\\_split.py:666: UserWarning: The least populated class in y has only 1 members, which is less than n_splits=5.\n",
      "  warnings.warn((\"The least populated class in y has only %d\"\n"
     ]
    },
    {
     "data": {
      "text/plain": [
       "GridSearchCV(estimator=RandomForestClassifier(),\n",
       "             param_grid={'max_depth': [30, 60, 90],\n",
       "                         'n_estimators': [100, 400, 700, 1000]})"
      ]
     },
     "execution_count": 286,
     "metadata": {},
     "output_type": "execute_result"
    }
   ],
   "source": [
    "parameters = {'max_depth' : [i for i in range(30, 101, 30)],\n",
    "              'n_estimators' : [i for i in range (100, 1001, 300)]}\n",
    "forest = RandomForestClassifier()\n",
    "forestSearch = GridSearchCV(forest, parameters)\n",
    "forestSearch.fit(X_train_encoded, y_train)"
   ]
  },
  {
   "cell_type": "code",
   "execution_count": 287,
   "id": "7af92e94",
   "metadata": {},
   "outputs": [
    {
     "name": "stdout",
     "output_type": "stream",
     "text": [
      "Root mean squared error: 41306.24\n",
      "Mean squared error: 1706205510.75\n",
      "Coefficient of determination: 0.74\n"
     ]
    }
   ],
   "source": [
    "y_pred = forestSearch.predict(X_test_encoded)\n",
    "print(\"Root mean squared error: %.2f\" % mean_squared_error(y_test, y_pred, squared = False))\n",
    "print(\"Mean squared error: %.2f\" % mean_squared_error(y_test, y_pred))\n",
    "print(\"Coefficient of determination: %.2f\" % r2_score(y_test, y_pred))"
   ]
  },
  {
   "cell_type": "markdown",
   "id": "7aafc81b",
   "metadata": {},
   "source": [
    "### We can see that it is better for random forest model to define max depth automatically (or we should search for more parameters range, but the training is very long so we will just stop on these results"
   ]
  },
  {
   "cell_type": "code",
   "execution_count": 291,
   "id": "c7e6762b",
   "metadata": {},
   "outputs": [
    {
     "data": {
      "image/png": "[encoded data removed]",
      "text/plain": [
       "<Figure size 1000x1000 with 1 Axes>"
      ]
     },
     "metadata": {},
     "output_type": "display_data"
    }
   ],
   "source": [
    "\n",
    "plt.figure(figsize=(10,10))\n",
    "plt.scatter(y_test, y_pred, c='crimson')\n",
    "\n",
    "p1 = max(max(y_pred), max(y_test))\n",
    "p2 = min(min(y_pred), min(y_test))\n",
    "plt.plot([p1, p2], [p1, p2], 'b-')\n",
    "plt.xlabel('True Values', fontsize=15)\n",
    "plt.ylabel('Predictions', fontsize=15)\n",
    "plt.axis('equal')\n",
    "plt.show()"
   ]
  }
 ],
 "metadata": {
  "kernelspec": {
   "display_name": "Python 3 (ipykernel)",
   "language": "python",
   "name": "python3"
  },
  "language_info": {
   "codemirror_mode": {
    "name": "ipython",
    "version": 3
   },
   "file_extension": ".py",
   "mimetype": "text/x-python",
   "name": "python",
   "nbconvert_exporter": "python",
   "pygments_lexer": "ipython3",
   "version": "3.9.0"
  }
 },
 "nbformat": 4,
 "nbformat_minor": 5
}
